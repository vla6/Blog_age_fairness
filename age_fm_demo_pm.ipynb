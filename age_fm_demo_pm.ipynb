{
 "cells": [
  {
   "cell_type": "markdown",
   "metadata": {},
   "source": [
    "# Fairness Metric Age Effect Differences\n",
    "This demonstration downloads census data by race/ethnicity and age.  Then, using \"older\" and \"younger\" groups, shows metric differences between racial/ethnic groups due to age, even when the underlying process does not depend on race/ethnicity."
   ]
  },
  {
   "cell_type": "code",
   "execution_count": 1,
   "metadata": {},
   "outputs": [],
   "source": [
    "import pandas as pd\n",
    "import numpy as np\n",
    "import censusdata\n",
    "import re\n",
    "import matplotlib\n",
    "import matplotlib.pyplot as plt\n",
    "import seaborn as sns\n",
    "from scipy.interpolate import interp1d\n",
    "from scipy.special import expit\n",
    "import math\n",
    "import os\n",
    "import random\n",
    "from scipy.stats import gaussian_kde\n",
    "from textwrap import wrap"
   ]
  },
  {
   "cell_type": "markdown",
   "metadata": {},
   "source": [
    "### Set local path for saving charts, etc.\n",
    "Input your path here!"
   ]
  },
  {
   "cell_type": "code",
   "execution_count": 2,
   "metadata": {},
   "outputs": [
    {
     "data": {
      "text/plain": [
       "True"
      ]
     },
     "execution_count": 2,
     "metadata": {},
     "output_type": "execute_result"
    }
   ],
   "source": [
    "local_save_path = '/YOUR/PATH/HERE'\n",
    "os.path.isdir(local_save_path)"
   ]
  },
  {
   "cell_type": "markdown",
   "metadata": {},
   "source": [
    "## Census Data - Age by Race/Ethnicity\n",
    "I will analyze age effects on fairness metrics using the US population distributions."
   ]
  },
  {
   "cell_type": "markdown",
   "metadata": {},
   "source": [
    "### Census metadata\n",
    "Here, I get variable info for tables that I want to examine.  I am interested in reace/ethnicity by age information from the 2019 American Community Survey.  Information about tables I want to examine can be found here:\n",
    " - https://censusreporter.org/topics/age-sex/\n",
    " - https://censusreporter.org/topics/race-hispanic/\n",
    "\n",
    "In this section, I get metadata about variables I want to examine, which are needed for count pulls."
   ]
  },
  {
   "cell_type": "code",
   "execution_count": 3,
   "metadata": {},
   "outputs": [],
   "source": [
    "# List the tables I want to pul. \n",
    "table_list = ['B01001B', 'B01001C', 'B01001D', 'B01001E', 'B01001F', 'B01001G', 'B01001H', 'B01001I']"
   ]
  },
  {
   "cell_type": "code",
   "execution_count": 4,
   "metadata": {},
   "outputs": [],
   "source": [
    "# Get metadata about fields in all the tables I want to use\n",
    "table_metdata_raw = pd.concat(map(lambda x: pd.DataFrame(censusdata.censustable('acs5', 2019, x)), \n",
    "                                        table_list), axis=1) \\\n",
    "    .transpose() \\\n",
    "    .reset_index() \\\n",
    "    .rename(columns={'index':'variable'})"
   ]
  },
  {
   "cell_type": "code",
   "execution_count": 5,
   "metadata": {},
   "outputs": [],
   "source": [
    "# Parse concept - get race/ethnicity category\n",
    "table_info_1_df= table_metdata_raw.copy()\n",
    "table_info_1_df['race_eth'] = table_metdata_raw.concept.str.split('[()]',2, expand=True).iloc[:,1]"
   ]
  },
  {
   "cell_type": "code",
   "execution_count": 6,
   "metadata": {},
   "outputs": [],
   "source": [
    "# Parse label - get sex, age strings\n",
    "table_info_1_df['sex'] = table_info_1_df.label.str.split('[!!]', expand=True).iloc[:,4]\n",
    "table_info_1_df['age_grp'] = table_info_1_df.label.str.split('[!!]', expand=True).iloc[:,6]"
   ]
  },
  {
   "cell_type": "code",
   "execution_count": 7,
   "metadata": {},
   "outputs": [],
   "source": [
    "# Drop columns with missing sex, age groups\n",
    "table_info_1_df.dropna(how='any', subset=['sex', 'age_grp'], inplace=True)"
   ]
  },
  {
   "cell_type": "code",
   "execution_count": 8,
   "metadata": {},
   "outputs": [
    {
     "data": {
      "text/html": [
       "<div>\n",
       "<style scoped>\n",
       "    .dataframe tbody tr th:only-of-type {\n",
       "        vertical-align: middle;\n",
       "    }\n",
       "\n",
       "    .dataframe tbody tr th {\n",
       "        vertical-align: top;\n",
       "    }\n",
       "\n",
       "    .dataframe thead th {\n",
       "        text-align: right;\n",
       "    }\n",
       "</style>\n",
       "<table border=\"1\" class=\"dataframe\">\n",
       "  <thead>\n",
       "    <tr style=\"text-align: right;\">\n",
       "      <th></th>\n",
       "      <th>variable</th>\n",
       "      <th>label</th>\n",
       "      <th>concept</th>\n",
       "      <th>predicateType</th>\n",
       "      <th>race_eth</th>\n",
       "      <th>sex</th>\n",
       "      <th>age_grp</th>\n",
       "    </tr>\n",
       "  </thead>\n",
       "  <tbody>\n",
       "    <tr>\n",
       "      <th>2</th>\n",
       "      <td>B01001B_003E</td>\n",
       "      <td>Estimate!!Total:!!Male:!!Under 5 years</td>\n",
       "      <td>SEX BY AGE (BLACK OR AFRICAN AMERICAN ALONE)</td>\n",
       "      <td>int</td>\n",
       "      <td>BLACK OR AFRICAN AMERICAN ALONE</td>\n",
       "      <td>Male:</td>\n",
       "      <td>Under 5 years</td>\n",
       "    </tr>\n",
       "    <tr>\n",
       "      <th>3</th>\n",
       "      <td>B01001B_004E</td>\n",
       "      <td>Estimate!!Total:!!Male:!!5 to 9 years</td>\n",
       "      <td>SEX BY AGE (BLACK OR AFRICAN AMERICAN ALONE)</td>\n",
       "      <td>int</td>\n",
       "      <td>BLACK OR AFRICAN AMERICAN ALONE</td>\n",
       "      <td>Male:</td>\n",
       "      <td>5 to 9 years</td>\n",
       "    </tr>\n",
       "    <tr>\n",
       "      <th>4</th>\n",
       "      <td>B01001B_005E</td>\n",
       "      <td>Estimate!!Total:!!Male:!!10 to 14 years</td>\n",
       "      <td>SEX BY AGE (BLACK OR AFRICAN AMERICAN ALONE)</td>\n",
       "      <td>int</td>\n",
       "      <td>BLACK OR AFRICAN AMERICAN ALONE</td>\n",
       "      <td>Male:</td>\n",
       "      <td>10 to 14 years</td>\n",
       "    </tr>\n",
       "    <tr>\n",
       "      <th>5</th>\n",
       "      <td>B01001B_006E</td>\n",
       "      <td>Estimate!!Total:!!Male:!!15 to 17 years</td>\n",
       "      <td>SEX BY AGE (BLACK OR AFRICAN AMERICAN ALONE)</td>\n",
       "      <td>int</td>\n",
       "      <td>BLACK OR AFRICAN AMERICAN ALONE</td>\n",
       "      <td>Male:</td>\n",
       "      <td>15 to 17 years</td>\n",
       "    </tr>\n",
       "    <tr>\n",
       "      <th>6</th>\n",
       "      <td>B01001B_007E</td>\n",
       "      <td>Estimate!!Total:!!Male:!!18 and 19 years</td>\n",
       "      <td>SEX BY AGE (BLACK OR AFRICAN AMERICAN ALONE)</td>\n",
       "      <td>int</td>\n",
       "      <td>BLACK OR AFRICAN AMERICAN ALONE</td>\n",
       "      <td>Male:</td>\n",
       "      <td>18 and 19 years</td>\n",
       "    </tr>\n",
       "  </tbody>\n",
       "</table>\n",
       "</div>"
      ],
      "text/plain": [
       "       variable                                     label  \\\n",
       "2  B01001B_003E    Estimate!!Total:!!Male:!!Under 5 years   \n",
       "3  B01001B_004E     Estimate!!Total:!!Male:!!5 to 9 years   \n",
       "4  B01001B_005E   Estimate!!Total:!!Male:!!10 to 14 years   \n",
       "5  B01001B_006E   Estimate!!Total:!!Male:!!15 to 17 years   \n",
       "6  B01001B_007E  Estimate!!Total:!!Male:!!18 and 19 years   \n",
       "\n",
       "                                        concept predicateType  \\\n",
       "2  SEX BY AGE (BLACK OR AFRICAN AMERICAN ALONE)           int   \n",
       "3  SEX BY AGE (BLACK OR AFRICAN AMERICAN ALONE)           int   \n",
       "4  SEX BY AGE (BLACK OR AFRICAN AMERICAN ALONE)           int   \n",
       "5  SEX BY AGE (BLACK OR AFRICAN AMERICAN ALONE)           int   \n",
       "6  SEX BY AGE (BLACK OR AFRICAN AMERICAN ALONE)           int   \n",
       "\n",
       "                          race_eth    sex          age_grp  \n",
       "2  BLACK OR AFRICAN AMERICAN ALONE  Male:    Under 5 years  \n",
       "3  BLACK OR AFRICAN AMERICAN ALONE  Male:     5 to 9 years  \n",
       "4  BLACK OR AFRICAN AMERICAN ALONE  Male:   10 to 14 years  \n",
       "5  BLACK OR AFRICAN AMERICAN ALONE  Male:   15 to 17 years  \n",
       "6  BLACK OR AFRICAN AMERICAN ALONE  Male:  18 and 19 years  "
      ]
     },
     "execution_count": 8,
     "metadata": {},
     "output_type": "execute_result"
    }
   ],
   "source": [
    "table_info_1_df.head()"
   ]
  },
  {
   "cell_type": "markdown",
   "metadata": {},
   "source": [
    "### Census age group string parsing"
   ]
  },
  {
   "cell_type": "code",
   "execution_count": 9,
   "metadata": {},
   "outputs": [],
   "source": [
    "# Handle the lowest age group\n",
    "age_tbl_1 = table_info_1_df.age_grp.str.extract(r'Under (?P<age_max>[0-9]*) years').dropna().astype('int')\n",
    "age_tbl_1['age_min'] = 0\n",
    "age_tbl_1['age_max'] = age_tbl_1['age_max'] - 1"
   ]
  },
  {
   "cell_type": "code",
   "execution_count": 10,
   "metadata": {},
   "outputs": [],
   "source": [
    "# Handle the highest age group\n",
    "age_tbl_2 = table_info_1_df.age_grp.str.extract(r'(?P<age_min>[0-9]*) years and over').dropna().astype('int')\n",
    "age_tbl_2['age_max'] = 99 # arbitray end point for plots"
   ]
  },
  {
   "cell_type": "code",
   "execution_count": 11,
   "metadata": {},
   "outputs": [
    {
     "data": {
      "text/html": [
       "<div>\n",
       "<style scoped>\n",
       "    .dataframe tbody tr th:only-of-type {\n",
       "        vertical-align: middle;\n",
       "    }\n",
       "\n",
       "    .dataframe tbody tr th {\n",
       "        vertical-align: top;\n",
       "    }\n",
       "\n",
       "    .dataframe thead th {\n",
       "        text-align: right;\n",
       "    }\n",
       "</style>\n",
       "<table border=\"1\" class=\"dataframe\">\n",
       "  <thead>\n",
       "    <tr style=\"text-align: right;\">\n",
       "      <th></th>\n",
       "      <th>age_min</th>\n",
       "      <th>age_max</th>\n",
       "    </tr>\n",
       "  </thead>\n",
       "  <tbody>\n",
       "    <tr>\n",
       "      <th>3</th>\n",
       "      <td>5</td>\n",
       "      <td>9</td>\n",
       "    </tr>\n",
       "    <tr>\n",
       "      <th>4</th>\n",
       "      <td>10</td>\n",
       "      <td>14</td>\n",
       "    </tr>\n",
       "    <tr>\n",
       "      <th>5</th>\n",
       "      <td>15</td>\n",
       "      <td>17</td>\n",
       "    </tr>\n",
       "    <tr>\n",
       "      <th>6</th>\n",
       "      <td>18</td>\n",
       "      <td>19</td>\n",
       "    </tr>\n",
       "    <tr>\n",
       "      <th>7</th>\n",
       "      <td>20</td>\n",
       "      <td>24</td>\n",
       "    </tr>\n",
       "    <tr>\n",
       "      <th>...</th>\n",
       "      <td>...</td>\n",
       "      <td>...</td>\n",
       "    </tr>\n",
       "    <tr>\n",
       "      <th>242</th>\n",
       "      <td>35</td>\n",
       "      <td>44</td>\n",
       "    </tr>\n",
       "    <tr>\n",
       "      <th>243</th>\n",
       "      <td>45</td>\n",
       "      <td>54</td>\n",
       "    </tr>\n",
       "    <tr>\n",
       "      <th>244</th>\n",
       "      <td>55</td>\n",
       "      <td>64</td>\n",
       "    </tr>\n",
       "    <tr>\n",
       "      <th>245</th>\n",
       "      <td>65</td>\n",
       "      <td>74</td>\n",
       "    </tr>\n",
       "    <tr>\n",
       "      <th>246</th>\n",
       "      <td>75</td>\n",
       "      <td>84</td>\n",
       "    </tr>\n",
       "  </tbody>\n",
       "</table>\n",
       "<p>192 rows × 2 columns</p>\n",
       "</div>"
      ],
      "text/plain": [
       "     age_min  age_max\n",
       "3          5        9\n",
       "4         10       14\n",
       "5         15       17\n",
       "6         18       19\n",
       "7         20       24\n",
       "..       ...      ...\n",
       "242       35       44\n",
       "243       45       54\n",
       "244       55       64\n",
       "245       65       74\n",
       "246       75       84\n",
       "\n",
       "[192 rows x 2 columns]"
      ]
     },
     "execution_count": 11,
     "metadata": {},
     "output_type": "execute_result"
    }
   ],
   "source": [
    "# Handle age ranges \n",
    "age_tbl_3 = table_info_1_df.age_grp.str.extract(r'(?P<age_min>[0-9]*) (?:to|and) (?P<age_max>[0-9]*) years').dropna().astype('int')\n",
    "age_tbl_3"
   ]
  },
  {
   "cell_type": "code",
   "execution_count": 12,
   "metadata": {},
   "outputs": [],
   "source": [
    "# Handle 2 year ranges\n",
    "age_tbl_4 = table_info_1_df.age_grp.str.extract(r'(?P<age_min>[0-9]*) and (?P<age_max>[0-9]*) years').dropna().astype('int')"
   ]
  },
  {
   "cell_type": "code",
   "execution_count": 13,
   "metadata": {},
   "outputs": [],
   "source": [
    "# Combine the info\n",
    "age_tbl_comb = age_tbl_3.combine_first(age_tbl_2).combine_first(age_tbl_1).astype('int')"
   ]
  },
  {
   "cell_type": "code",
   "execution_count": 14,
   "metadata": {},
   "outputs": [],
   "source": [
    "table_info_2_df = table_info_1_df.join(age_tbl_comb, how='left')"
   ]
  },
  {
   "cell_type": "markdown",
   "metadata": {},
   "source": [
    "### Census field conversions\n",
    "Convert some fields to categorical, drop others"
   ]
  },
  {
   "cell_type": "code",
   "execution_count": 15,
   "metadata": {},
   "outputs": [],
   "source": [
    "table_info_df = table_info_2_df.copy()[['variable', 'race_eth', 'sex', 'age_grp', 'age_min', 'age_max']]\n",
    "table_info_df['race_eth'] = pd.Categorical(table_info_2_df.race_eth, categories=table_info_2_df.race_eth.unique())\n",
    "table_info_df['age_grp'] = pd.Categorical(table_info_2_df.age_grp, categories=table_info_2_df.age_grp.unique())"
   ]
  },
  {
   "cell_type": "code",
   "execution_count": 16,
   "metadata": {},
   "outputs": [
    {
     "data": {
      "text/html": [
       "<div>\n",
       "<style scoped>\n",
       "    .dataframe tbody tr th:only-of-type {\n",
       "        vertical-align: middle;\n",
       "    }\n",
       "\n",
       "    .dataframe tbody tr th {\n",
       "        vertical-align: top;\n",
       "    }\n",
       "\n",
       "    .dataframe thead th {\n",
       "        text-align: right;\n",
       "    }\n",
       "</style>\n",
       "<table border=\"1\" class=\"dataframe\">\n",
       "  <thead>\n",
       "    <tr style=\"text-align: right;\">\n",
       "      <th></th>\n",
       "      <th>variable</th>\n",
       "      <th>race_eth</th>\n",
       "      <th>sex</th>\n",
       "      <th>age_grp</th>\n",
       "      <th>age_min</th>\n",
       "      <th>age_max</th>\n",
       "    </tr>\n",
       "  </thead>\n",
       "  <tbody>\n",
       "    <tr>\n",
       "      <th>2</th>\n",
       "      <td>B01001B_003E</td>\n",
       "      <td>BLACK OR AFRICAN AMERICAN ALONE</td>\n",
       "      <td>Male:</td>\n",
       "      <td>Under 5 years</td>\n",
       "      <td>0</td>\n",
       "      <td>4</td>\n",
       "    </tr>\n",
       "    <tr>\n",
       "      <th>3</th>\n",
       "      <td>B01001B_004E</td>\n",
       "      <td>BLACK OR AFRICAN AMERICAN ALONE</td>\n",
       "      <td>Male:</td>\n",
       "      <td>5 to 9 years</td>\n",
       "      <td>5</td>\n",
       "      <td>9</td>\n",
       "    </tr>\n",
       "    <tr>\n",
       "      <th>4</th>\n",
       "      <td>B01001B_005E</td>\n",
       "      <td>BLACK OR AFRICAN AMERICAN ALONE</td>\n",
       "      <td>Male:</td>\n",
       "      <td>10 to 14 years</td>\n",
       "      <td>10</td>\n",
       "      <td>14</td>\n",
       "    </tr>\n",
       "    <tr>\n",
       "      <th>5</th>\n",
       "      <td>B01001B_006E</td>\n",
       "      <td>BLACK OR AFRICAN AMERICAN ALONE</td>\n",
       "      <td>Male:</td>\n",
       "      <td>15 to 17 years</td>\n",
       "      <td>15</td>\n",
       "      <td>17</td>\n",
       "    </tr>\n",
       "    <tr>\n",
       "      <th>6</th>\n",
       "      <td>B01001B_007E</td>\n",
       "      <td>BLACK OR AFRICAN AMERICAN ALONE</td>\n",
       "      <td>Male:</td>\n",
       "      <td>18 and 19 years</td>\n",
       "      <td>18</td>\n",
       "      <td>19</td>\n",
       "    </tr>\n",
       "  </tbody>\n",
       "</table>\n",
       "</div>"
      ],
      "text/plain": [
       "       variable                         race_eth    sex          age_grp  \\\n",
       "2  B01001B_003E  BLACK OR AFRICAN AMERICAN ALONE  Male:    Under 5 years   \n",
       "3  B01001B_004E  BLACK OR AFRICAN AMERICAN ALONE  Male:     5 to 9 years   \n",
       "4  B01001B_005E  BLACK OR AFRICAN AMERICAN ALONE  Male:   10 to 14 years   \n",
       "5  B01001B_006E  BLACK OR AFRICAN AMERICAN ALONE  Male:   15 to 17 years   \n",
       "6  B01001B_007E  BLACK OR AFRICAN AMERICAN ALONE  Male:  18 and 19 years   \n",
       "\n",
       "   age_min  age_max  \n",
       "2        0        4  \n",
       "3        5        9  \n",
       "4       10       14  \n",
       "5       15       17  \n",
       "6       18       19  "
      ]
     },
     "execution_count": 16,
     "metadata": {},
     "output_type": "execute_result"
    }
   ],
   "source": [
    "table_info_df.head()"
   ]
  },
  {
   "cell_type": "markdown",
   "metadata": {},
   "source": [
    "### Census population counts by age with race/ethnicity\n",
    "Here, I pull the variables identified above and aggregate to combine sex categories."
   ]
  },
  {
   "cell_type": "code",
   "execution_count": 17,
   "metadata": {},
   "outputs": [
    {
     "data": {
      "text/html": [
       "<div>\n",
       "<style scoped>\n",
       "    .dataframe tbody tr th:only-of-type {\n",
       "        vertical-align: middle;\n",
       "    }\n",
       "\n",
       "    .dataframe tbody tr th {\n",
       "        vertical-align: top;\n",
       "    }\n",
       "\n",
       "    .dataframe thead th {\n",
       "        text-align: right;\n",
       "    }\n",
       "</style>\n",
       "<table border=\"1\" class=\"dataframe\">\n",
       "  <thead>\n",
       "    <tr style=\"text-align: right;\">\n",
       "      <th></th>\n",
       "      <th>B01001B_003E</th>\n",
       "      <th>B01001B_004E</th>\n",
       "      <th>B01001B_005E</th>\n",
       "      <th>B01001B_006E</th>\n",
       "      <th>B01001B_007E</th>\n",
       "      <th>B01001B_008E</th>\n",
       "      <th>B01001B_009E</th>\n",
       "      <th>B01001B_010E</th>\n",
       "      <th>B01001B_011E</th>\n",
       "      <th>B01001B_012E</th>\n",
       "      <th>...</th>\n",
       "      <th>B01001I_022E</th>\n",
       "      <th>B01001I_023E</th>\n",
       "      <th>B01001I_024E</th>\n",
       "      <th>B01001I_025E</th>\n",
       "      <th>B01001I_026E</th>\n",
       "      <th>B01001I_027E</th>\n",
       "      <th>B01001I_028E</th>\n",
       "      <th>B01001I_029E</th>\n",
       "      <th>B01001I_030E</th>\n",
       "      <th>B01001I_031E</th>\n",
       "    </tr>\n",
       "  </thead>\n",
       "  <tbody>\n",
       "    <tr>\n",
       "      <th>United States: Summary level: 010, us:1</th>\n",
       "      <td>1390883</td>\n",
       "      <td>1432012</td>\n",
       "      <td>1485845</td>\n",
       "      <td>911088</td>\n",
       "      <td>644594</td>\n",
       "      <td>1662549</td>\n",
       "      <td>1678054</td>\n",
       "      <td>1406596</td>\n",
       "      <td>2520532</td>\n",
       "      <td>2476388</td>\n",
       "      <td>...</td>\n",
       "      <td>954620</td>\n",
       "      <td>2321468</td>\n",
       "      <td>2262448</td>\n",
       "      <td>2140552</td>\n",
       "      <td>4093134</td>\n",
       "      <td>3373036</td>\n",
       "      <td>2396670</td>\n",
       "      <td>1378777</td>\n",
       "      <td>695641</td>\n",
       "      <td>286388</td>\n",
       "    </tr>\n",
       "  </tbody>\n",
       "</table>\n",
       "<p>1 rows × 224 columns</p>\n",
       "</div>"
      ],
      "text/plain": [
       "                                         B01001B_003E  B01001B_004E  \\\n",
       "United States: Summary level: 010, us:1       1390883       1432012   \n",
       "\n",
       "                                         B01001B_005E  B01001B_006E  \\\n",
       "United States: Summary level: 010, us:1       1485845        911088   \n",
       "\n",
       "                                         B01001B_007E  B01001B_008E  \\\n",
       "United States: Summary level: 010, us:1        644594       1662549   \n",
       "\n",
       "                                         B01001B_009E  B01001B_010E  \\\n",
       "United States: Summary level: 010, us:1       1678054       1406596   \n",
       "\n",
       "                                         B01001B_011E  B01001B_012E  ...  \\\n",
       "United States: Summary level: 010, us:1       2520532       2476388  ...   \n",
       "\n",
       "                                         B01001I_022E  B01001I_023E  \\\n",
       "United States: Summary level: 010, us:1        954620       2321468   \n",
       "\n",
       "                                         B01001I_024E  B01001I_025E  \\\n",
       "United States: Summary level: 010, us:1       2262448       2140552   \n",
       "\n",
       "                                         B01001I_026E  B01001I_027E  \\\n",
       "United States: Summary level: 010, us:1       4093134       3373036   \n",
       "\n",
       "                                         B01001I_028E  B01001I_029E  \\\n",
       "United States: Summary level: 010, us:1       2396670       1378777   \n",
       "\n",
       "                                         B01001I_030E  B01001I_031E  \n",
       "United States: Summary level: 010, us:1        695641        286388  \n",
       "\n",
       "[1 rows x 224 columns]"
      ]
     },
     "execution_count": 17,
     "metadata": {},
     "output_type": "execute_result"
    }
   ],
   "source": [
    "# Pull the entire US counts for all variables listed in table_info_df\n",
    "census_counts_df = censusdata.download('acs5', 2019,\n",
    "                             censusdata.censusgeo([('us','*')]),\n",
    "                             table_info_df.variable.to_list())\n",
    "census_counts_df.head()"
   ]
  },
  {
   "cell_type": "code",
   "execution_count": 18,
   "metadata": {},
   "outputs": [
    {
     "data": {
      "text/html": [
       "<div>\n",
       "<style scoped>\n",
       "    .dataframe tbody tr th:only-of-type {\n",
       "        vertical-align: middle;\n",
       "    }\n",
       "\n",
       "    .dataframe tbody tr th {\n",
       "        vertical-align: top;\n",
       "    }\n",
       "\n",
       "    .dataframe thead th {\n",
       "        text-align: right;\n",
       "    }\n",
       "</style>\n",
       "<table border=\"1\" class=\"dataframe\">\n",
       "  <thead>\n",
       "    <tr style=\"text-align: right;\">\n",
       "      <th></th>\n",
       "      <th>variable</th>\n",
       "      <th>count</th>\n",
       "    </tr>\n",
       "  </thead>\n",
       "  <tbody>\n",
       "    <tr>\n",
       "      <th>0</th>\n",
       "      <td>B01001B_003E</td>\n",
       "      <td>1390883</td>\n",
       "    </tr>\n",
       "    <tr>\n",
       "      <th>1</th>\n",
       "      <td>B01001B_004E</td>\n",
       "      <td>1432012</td>\n",
       "    </tr>\n",
       "    <tr>\n",
       "      <th>2</th>\n",
       "      <td>B01001B_005E</td>\n",
       "      <td>1485845</td>\n",
       "    </tr>\n",
       "    <tr>\n",
       "      <th>3</th>\n",
       "      <td>B01001B_006E</td>\n",
       "      <td>911088</td>\n",
       "    </tr>\n",
       "    <tr>\n",
       "      <th>4</th>\n",
       "      <td>B01001B_007E</td>\n",
       "      <td>644594</td>\n",
       "    </tr>\n",
       "  </tbody>\n",
       "</table>\n",
       "</div>"
      ],
      "text/plain": [
       "       variable    count\n",
       "0  B01001B_003E  1390883\n",
       "1  B01001B_004E  1432012\n",
       "2  B01001B_005E  1485845\n",
       "3  B01001B_006E   911088\n",
       "4  B01001B_007E   644594"
      ]
     },
     "execution_count": 18,
     "metadata": {},
     "output_type": "execute_result"
    }
   ],
   "source": [
    "# Convert to long format\n",
    "census_long_df = census_counts_df.transpose().astype('int').reset_index()\n",
    "census_long_df.columns= ['variable', 'count']\n",
    "census_long_df.head()"
   ]
  },
  {
   "cell_type": "code",
   "execution_count": 19,
   "metadata": {},
   "outputs": [],
   "source": [
    "# Join in metadata\n",
    "census_long_df = census_long_df.merge(table_info_df[['variable', 'race_eth', 'sex', 'age_grp', 'age_min', 'age_max']], \n",
    "                                                    how='inner', on='variable')"
   ]
  },
  {
   "cell_type": "code",
   "execution_count": 20,
   "metadata": {},
   "outputs": [
    {
     "data": {
      "text/html": [
       "<div>\n",
       "<style scoped>\n",
       "    .dataframe tbody tr th:only-of-type {\n",
       "        vertical-align: middle;\n",
       "    }\n",
       "\n",
       "    .dataframe tbody tr th {\n",
       "        vertical-align: top;\n",
       "    }\n",
       "\n",
       "    .dataframe thead th {\n",
       "        text-align: right;\n",
       "    }\n",
       "</style>\n",
       "<table border=\"1\" class=\"dataframe\">\n",
       "  <thead>\n",
       "    <tr style=\"text-align: right;\">\n",
       "      <th></th>\n",
       "      <th>race_eth</th>\n",
       "      <th>age_grp</th>\n",
       "      <th>count</th>\n",
       "      <th>age_min</th>\n",
       "      <th>age_max</th>\n",
       "    </tr>\n",
       "  </thead>\n",
       "  <tbody>\n",
       "    <tr>\n",
       "      <th>0</th>\n",
       "      <td>BLACK OR AFRICAN AMERICAN ALONE</td>\n",
       "      <td>Under 5 years</td>\n",
       "      <td>2740124</td>\n",
       "      <td>0</td>\n",
       "      <td>4</td>\n",
       "    </tr>\n",
       "    <tr>\n",
       "      <th>1</th>\n",
       "      <td>BLACK OR AFRICAN AMERICAN ALONE</td>\n",
       "      <td>5 to 9 years</td>\n",
       "      <td>2828410</td>\n",
       "      <td>5</td>\n",
       "      <td>9</td>\n",
       "    </tr>\n",
       "    <tr>\n",
       "      <th>2</th>\n",
       "      <td>BLACK OR AFRICAN AMERICAN ALONE</td>\n",
       "      <td>10 to 14 years</td>\n",
       "      <td>2929886</td>\n",
       "      <td>10</td>\n",
       "      <td>14</td>\n",
       "    </tr>\n",
       "    <tr>\n",
       "      <th>3</th>\n",
       "      <td>BLACK OR AFRICAN AMERICAN ALONE</td>\n",
       "      <td>15 to 17 years</td>\n",
       "      <td>1786717</td>\n",
       "      <td>15</td>\n",
       "      <td>17</td>\n",
       "    </tr>\n",
       "    <tr>\n",
       "      <th>4</th>\n",
       "      <td>BLACK OR AFRICAN AMERICAN ALONE</td>\n",
       "      <td>18 and 19 years</td>\n",
       "      <td>1264392</td>\n",
       "      <td>18</td>\n",
       "      <td>19</td>\n",
       "    </tr>\n",
       "  </tbody>\n",
       "</table>\n",
       "</div>"
      ],
      "text/plain": [
       "                          race_eth          age_grp    count  age_min  age_max\n",
       "0  BLACK OR AFRICAN AMERICAN ALONE    Under 5 years  2740124        0        4\n",
       "1  BLACK OR AFRICAN AMERICAN ALONE     5 to 9 years  2828410        5        9\n",
       "2  BLACK OR AFRICAN AMERICAN ALONE   10 to 14 years  2929886       10       14\n",
       "3  BLACK OR AFRICAN AMERICAN ALONE   15 to 17 years  1786717       15       17\n",
       "4  BLACK OR AFRICAN AMERICAN ALONE  18 and 19 years  1264392       18       19"
      ]
     },
     "execution_count": 20,
     "metadata": {},
     "output_type": "execute_result"
    }
   ],
   "source": [
    "# Aggregate to combine sex categories\n",
    "census_long_comb_df = census_long_df.groupby(['race_eth', 'age_grp']) \\\n",
    "    .agg({'count':np.sum, 'age_min': 'first', 'age_max':'first'}) \\\n",
    "    .reset_index()\n",
    "census_long_comb_df.head()"
   ]
  },
  {
   "cell_type": "code",
   "execution_count": 21,
   "metadata": {},
   "outputs": [
    {
     "data": {
      "text/plain": [
       "85 years and over    8\n",
       "75 to 84 years       8\n",
       "65 to 74 years       8\n",
       "55 to 64 years       8\n",
       "45 to 54 years       8\n",
       "35 to 44 years       8\n",
       "30 to 34 years       8\n",
       "25 to 29 years       8\n",
       "20 to 24 years       8\n",
       "18 and 19 years      8\n",
       "15 to 17 years       8\n",
       "10 to 14 years       8\n",
       "5 to 9 years         8\n",
       "Under 5 years        8\n",
       "Name: age_grp, dtype: int64"
      ]
     },
     "execution_count": 21,
     "metadata": {},
     "output_type": "execute_result"
    }
   ],
   "source": [
    "census_long_comb_df['age_grp'].value_counts()"
   ]
  },
  {
   "cell_type": "markdown",
   "metadata": {},
   "source": [
    "### Census age interpolation (approximate age distribution)\n",
    "Here, I go from discrete age bins to a dataframe that has 1 row per race/ethnicity and age in years.  This is done via interpolation and so results in an approximate smoothed shape"
   ]
  },
  {
   "cell_type": "code",
   "execution_count": 22,
   "metadata": {},
   "outputs": [],
   "source": [
    "# Apply the counts to the bin midpoint - scale to account for differing bin sizes\n",
    "census_re_1 =  census_long_comb_df.copy()\n",
    "census_re_1['age_mid'] = (census_re_1['age_max'] + census_re_1['age_max']) / 2\n",
    "census_re_1['age_width'] = census_re_1['age_max'] - census_re_1['age_min'] + 1\n",
    "census_re_1['count_scale'] = census_re_1['count'] / census_re_1['age_width']"
   ]
  },
  {
   "cell_type": "code",
   "execution_count": 23,
   "metadata": {},
   "outputs": [],
   "source": [
    "# Write a function to interpolate to age level\n",
    "def get_age_interp(data):\n",
    "    xnew = np.linspace(np.min(data.age_min), np.max(data.age_max), \n",
    "            num = math.ceil(1 + np.max(data.age_max) - np.min(data.age_min)), endpoint=True)\n",
    "    f_cubic = interp1d(data['age_mid'], data['count_scale'], kind='quadratic',\n",
    "                  fill_value = 'extrapolate')\n",
    "    return pd.DataFrame({'age_yr': xnew, 'count_interp':f_cubic(xnew)})"
   ]
  },
  {
   "cell_type": "code",
   "execution_count": 24,
   "metadata": {},
   "outputs": [],
   "source": [
    "# Apply function to each race/ethnicity group\n",
    "census_interpolated_dist = census_re_1.groupby('race_eth').apply(get_age_interp).reset_index()\n",
    "census_interpolated_dist.drop(columns='level_1', errors='ignore', inplace=True)"
   ]
  },
  {
   "cell_type": "code",
   "execution_count": 25,
   "metadata": {},
   "outputs": [],
   "source": [
    "# Get relative weights within groups\n",
    "census_interpolated_dist['count_weight'] = census_interpolated_dist.groupby('race_eth')['count_interp'].transform(lambda x: x / np.sum(x))"
   ]
  },
  {
   "cell_type": "markdown",
   "metadata": {},
   "source": [
    "#### Plot approximate age distributions by race/ethnicity"
   ]
  },
  {
   "cell_type": "code",
   "execution_count": 26,
   "metadata": {},
   "outputs": [
    {
     "data": {
      "text/html": [
       "<div>\n",
       "<style scoped>\n",
       "    .dataframe tbody tr th:only-of-type {\n",
       "        vertical-align: middle;\n",
       "    }\n",
       "\n",
       "    .dataframe tbody tr th {\n",
       "        vertical-align: top;\n",
       "    }\n",
       "\n",
       "    .dataframe thead th {\n",
       "        text-align: right;\n",
       "    }\n",
       "</style>\n",
       "<table border=\"1\" class=\"dataframe\">\n",
       "  <thead>\n",
       "    <tr style=\"text-align: right;\">\n",
       "      <th>race_eth</th>\n",
       "      <th>BLACK OR AFRICAN AMERICAN ALONE</th>\n",
       "      <th>AMERICAN INDIAN AND ALASKA NATIVE ALONE</th>\n",
       "      <th>ASIAN ALONE</th>\n",
       "      <th>NATIVE HAWAIIAN AND OTHER PACIFIC ISLANDER ALONE</th>\n",
       "      <th>SOME OTHER RACE ALONE</th>\n",
       "      <th>TWO OR MORE RACES</th>\n",
       "      <th>WHITE ALONE, NOT HISPANIC OR LATINO</th>\n",
       "      <th>HISPANIC OR LATINO</th>\n",
       "    </tr>\n",
       "    <tr>\n",
       "      <th>age_yr</th>\n",
       "      <th></th>\n",
       "      <th></th>\n",
       "      <th></th>\n",
       "      <th></th>\n",
       "      <th></th>\n",
       "      <th></th>\n",
       "      <th></th>\n",
       "      <th></th>\n",
       "    </tr>\n",
       "  </thead>\n",
       "  <tbody>\n",
       "    <tr>\n",
       "      <th>0.0</th>\n",
       "      <td>0.012344</td>\n",
       "      <td>0.012374</td>\n",
       "      <td>0.008721</td>\n",
       "      <td>0.013460</td>\n",
       "      <td>0.014966</td>\n",
       "      <td>0.028183</td>\n",
       "      <td>0.009579</td>\n",
       "      <td>0.016932</td>\n",
       "    </tr>\n",
       "    <tr>\n",
       "      <th>1.0</th>\n",
       "      <td>0.012378</td>\n",
       "      <td>0.012553</td>\n",
       "      <td>0.008969</td>\n",
       "      <td>0.013334</td>\n",
       "      <td>0.014827</td>\n",
       "      <td>0.027751</td>\n",
       "      <td>0.009525</td>\n",
       "      <td>0.016706</td>\n",
       "    </tr>\n",
       "    <tr>\n",
       "      <th>2.0</th>\n",
       "      <td>0.012421</td>\n",
       "      <td>0.012734</td>\n",
       "      <td>0.009199</td>\n",
       "      <td>0.013225</td>\n",
       "      <td>0.014728</td>\n",
       "      <td>0.027317</td>\n",
       "      <td>0.009488</td>\n",
       "      <td>0.016520</td>\n",
       "    </tr>\n",
       "    <tr>\n",
       "      <th>3.0</th>\n",
       "      <td>0.012471</td>\n",
       "      <td>0.012916</td>\n",
       "      <td>0.009413</td>\n",
       "      <td>0.013131</td>\n",
       "      <td>0.014669</td>\n",
       "      <td>0.026882</td>\n",
       "      <td>0.009467</td>\n",
       "      <td>0.016375</td>\n",
       "    </tr>\n",
       "    <tr>\n",
       "      <th>4.0</th>\n",
       "      <td>0.012528</td>\n",
       "      <td>0.013099</td>\n",
       "      <td>0.009609</td>\n",
       "      <td>0.013054</td>\n",
       "      <td>0.014649</td>\n",
       "      <td>0.026446</td>\n",
       "      <td>0.009463</td>\n",
       "      <td>0.016271</td>\n",
       "    </tr>\n",
       "  </tbody>\n",
       "</table>\n",
       "</div>"
      ],
      "text/plain": [
       "race_eth  BLACK OR AFRICAN AMERICAN ALONE  \\\n",
       "age_yr                                      \n",
       "0.0                              0.012344   \n",
       "1.0                              0.012378   \n",
       "2.0                              0.012421   \n",
       "3.0                              0.012471   \n",
       "4.0                              0.012528   \n",
       "\n",
       "race_eth  AMERICAN INDIAN AND ALASKA NATIVE ALONE  ASIAN ALONE  \\\n",
       "age_yr                                                           \n",
       "0.0                                      0.012374     0.008721   \n",
       "1.0                                      0.012553     0.008969   \n",
       "2.0                                      0.012734     0.009199   \n",
       "3.0                                      0.012916     0.009413   \n",
       "4.0                                      0.013099     0.009609   \n",
       "\n",
       "race_eth  NATIVE HAWAIIAN AND OTHER PACIFIC ISLANDER ALONE  \\\n",
       "age_yr                                                       \n",
       "0.0                                               0.013460   \n",
       "1.0                                               0.013334   \n",
       "2.0                                               0.013225   \n",
       "3.0                                               0.013131   \n",
       "4.0                                               0.013054   \n",
       "\n",
       "race_eth  SOME OTHER RACE ALONE  TWO OR MORE RACES  \\\n",
       "age_yr                                               \n",
       "0.0                    0.014966           0.028183   \n",
       "1.0                    0.014827           0.027751   \n",
       "2.0                    0.014728           0.027317   \n",
       "3.0                    0.014669           0.026882   \n",
       "4.0                    0.014649           0.026446   \n",
       "\n",
       "race_eth  WHITE ALONE, NOT HISPANIC OR LATINO  HISPANIC OR LATINO  \n",
       "age_yr                                                             \n",
       "0.0                                  0.009579            0.016932  \n",
       "1.0                                  0.009525            0.016706  \n",
       "2.0                                  0.009488            0.016520  \n",
       "3.0                                  0.009467            0.016375  \n",
       "4.0                                  0.009463            0.016271  "
      ]
     },
     "execution_count": 26,
     "metadata": {},
     "output_type": "execute_result"
    }
   ],
   "source": [
    "# Pivot to get groups in columns\n",
    "pivot_dist = pd.pivot_table(census_interpolated_dist,\n",
    "               index='age_yr', columns='race_eth', values='count_weight')\n",
    "pivot_dist.head()"
   ]
  },
  {
   "cell_type": "code",
   "execution_count": 27,
   "metadata": {},
   "outputs": [],
   "source": [
    "# Plot grid info\n",
    "num_plots = len(pivot_dist.columns)\n",
    "num_rows = math.ceil(num_plots/2)"
   ]
  },
  {
   "cell_type": "code",
   "execution_count": 28,
   "metadata": {},
   "outputs": [
    {
     "data": {
      "image/png": "[encoded data removed]",
      "text/plain": [
       "<Figure size 720x720 with 9 Axes>"
      ]
     },
     "metadata": {
      "needs_background": "light"
     },
     "output_type": "display_data"
    }
   ],
   "source": [
    "# Create the plots\n",
    "fig, axes = plt.subplots(num_rows, 2, sharex=True, sharey=False, figsize=(10,10))\n",
    "for i, ser_nm in enumerate(pivot_dist.columns):\n",
    "    # Plot data, fit\n",
    "    ax1 = axes[math.floor(i/2), i % 2]\n",
    "    ax1.plot(pivot_dist.index, pivot_dist[ser_nm], color=sns.color_palette().as_hex()[i])\n",
    "    ax1.title.set_text(ser_nm)\n",
    "    ax1.get_yaxis().set_visible(False)\n",
    "# Create a large frame to label x axis\n",
    "ax = fig.add_subplot(111, frameon=False)\n",
    "plt.tick_params(labelcolor='none', top='off', bottom='off', left='off', right='off')\n",
    "ax.set_xlabel('age', labelpad=10, fontsize=14) \n",
    "plt.tight_layout()\n",
    "plt.savefig(os.path.join(local_save_path, 'PLOT_age_dist_race_ethnicity.png'))\n",
    "plt.show()"
   ]
  },
  {
   "cell_type": "code",
   "execution_count": 29,
   "metadata": {},
   "outputs": [
    {
     "data": {
      "text/html": [
       "<div>\n",
       "<style scoped>\n",
       "    .dataframe tbody tr th:only-of-type {\n",
       "        vertical-align: middle;\n",
       "    }\n",
       "\n",
       "    .dataframe tbody tr th {\n",
       "        vertical-align: top;\n",
       "    }\n",
       "\n",
       "    .dataframe thead th {\n",
       "        text-align: right;\n",
       "    }\n",
       "</style>\n",
       "<table border=\"1\" class=\"dataframe\">\n",
       "  <thead>\n",
       "    <tr style=\"text-align: right;\">\n",
       "      <th>race_eth</th>\n",
       "      <th>BLACK OR AFRICAN AMERICAN ALONE</th>\n",
       "      <th>AMERICAN INDIAN AND ALASKA NATIVE ALONE</th>\n",
       "      <th>ASIAN ALONE</th>\n",
       "      <th>NATIVE HAWAIIAN AND OTHER PACIFIC ISLANDER ALONE</th>\n",
       "      <th>SOME OTHER RACE ALONE</th>\n",
       "      <th>TWO OR MORE RACES</th>\n",
       "      <th>WHITE ALONE, NOT HISPANIC OR LATINO</th>\n",
       "      <th>HISPANIC OR LATINO</th>\n",
       "    </tr>\n",
       "    <tr>\n",
       "      <th>age_yr</th>\n",
       "      <th></th>\n",
       "      <th></th>\n",
       "      <th></th>\n",
       "      <th></th>\n",
       "      <th></th>\n",
       "      <th></th>\n",
       "      <th></th>\n",
       "      <th></th>\n",
       "    </tr>\n",
       "  </thead>\n",
       "  <tbody>\n",
       "    <tr>\n",
       "      <th>0.0</th>\n",
       "      <td>0.012344</td>\n",
       "      <td>0.012374</td>\n",
       "      <td>0.008721</td>\n",
       "      <td>0.013460</td>\n",
       "      <td>0.014966</td>\n",
       "      <td>0.028183</td>\n",
       "      <td>0.009579</td>\n",
       "      <td>0.016932</td>\n",
       "    </tr>\n",
       "    <tr>\n",
       "      <th>1.0</th>\n",
       "      <td>0.012378</td>\n",
       "      <td>0.012553</td>\n",
       "      <td>0.008969</td>\n",
       "      <td>0.013334</td>\n",
       "      <td>0.014827</td>\n",
       "      <td>0.027751</td>\n",
       "      <td>0.009525</td>\n",
       "      <td>0.016706</td>\n",
       "    </tr>\n",
       "    <tr>\n",
       "      <th>2.0</th>\n",
       "      <td>0.012421</td>\n",
       "      <td>0.012734</td>\n",
       "      <td>0.009199</td>\n",
       "      <td>0.013225</td>\n",
       "      <td>0.014728</td>\n",
       "      <td>0.027317</td>\n",
       "      <td>0.009488</td>\n",
       "      <td>0.016520</td>\n",
       "    </tr>\n",
       "    <tr>\n",
       "      <th>3.0</th>\n",
       "      <td>0.012471</td>\n",
       "      <td>0.012916</td>\n",
       "      <td>0.009413</td>\n",
       "      <td>0.013131</td>\n",
       "      <td>0.014669</td>\n",
       "      <td>0.026882</td>\n",
       "      <td>0.009467</td>\n",
       "      <td>0.016375</td>\n",
       "    </tr>\n",
       "    <tr>\n",
       "      <th>4.0</th>\n",
       "      <td>0.012528</td>\n",
       "      <td>0.013099</td>\n",
       "      <td>0.009609</td>\n",
       "      <td>0.013054</td>\n",
       "      <td>0.014649</td>\n",
       "      <td>0.026446</td>\n",
       "      <td>0.009463</td>\n",
       "      <td>0.016271</td>\n",
       "    </tr>\n",
       "  </tbody>\n",
       "</table>\n",
       "</div>"
      ],
      "text/plain": [
       "race_eth  BLACK OR AFRICAN AMERICAN ALONE  \\\n",
       "age_yr                                      \n",
       "0.0                              0.012344   \n",
       "1.0                              0.012378   \n",
       "2.0                              0.012421   \n",
       "3.0                              0.012471   \n",
       "4.0                              0.012528   \n",
       "\n",
       "race_eth  AMERICAN INDIAN AND ALASKA NATIVE ALONE  ASIAN ALONE  \\\n",
       "age_yr                                                           \n",
       "0.0                                      0.012374     0.008721   \n",
       "1.0                                      0.012553     0.008969   \n",
       "2.0                                      0.012734     0.009199   \n",
       "3.0                                      0.012916     0.009413   \n",
       "4.0                                      0.013099     0.009609   \n",
       "\n",
       "race_eth  NATIVE HAWAIIAN AND OTHER PACIFIC ISLANDER ALONE  \\\n",
       "age_yr                                                       \n",
       "0.0                                               0.013460   \n",
       "1.0                                               0.013334   \n",
       "2.0                                               0.013225   \n",
       "3.0                                               0.013131   \n",
       "4.0                                               0.013054   \n",
       "\n",
       "race_eth  SOME OTHER RACE ALONE  TWO OR MORE RACES  \\\n",
       "age_yr                                               \n",
       "0.0                    0.014966           0.028183   \n",
       "1.0                    0.014827           0.027751   \n",
       "2.0                    0.014728           0.027317   \n",
       "3.0                    0.014669           0.026882   \n",
       "4.0                    0.014649           0.026446   \n",
       "\n",
       "race_eth  WHITE ALONE, NOT HISPANIC OR LATINO  HISPANIC OR LATINO  \n",
       "age_yr                                                             \n",
       "0.0                                  0.009579            0.016932  \n",
       "1.0                                  0.009525            0.016706  \n",
       "2.0                                  0.009488            0.016520  \n",
       "3.0                                  0.009467            0.016375  \n",
       "4.0                                  0.009463            0.016271  "
      ]
     },
     "execution_count": 29,
     "metadata": {},
     "output_type": "execute_result"
    }
   ],
   "source": [
    "pivot_dist.head()"
   ]
  },
  {
   "cell_type": "code",
   "execution_count": 30,
   "metadata": {},
   "outputs": [],
   "source": [
    "# Plot only the 2 groups of interest\n",
    "pivot_dist_lim = pivot_dist.drop(columns=['BLACK OR AFRICAN AMERICAN ALONE',\n",
    "                                         'AMERICAN INDIAN AND ALASKA NATIVE ALONE',\n",
    "                                         'ASIAN ALONE',\n",
    "                                         'NATIVE HAWAIIAN AND OTHER PACIFIC ISLANDER ALONE',\n",
    "                                         'SOME OTHER RACE ALONE', 'TWO OR MORE RACES'])"
   ]
  },
  {
   "cell_type": "code",
   "execution_count": 31,
   "metadata": {},
   "outputs": [
    {
     "data": {
      "image/png": "[encoded data removed]",
      "text/plain": [
       "<Figure size 720x216 with 3 Axes>"
      ]
     },
     "metadata": {
      "needs_background": "light"
     },
     "output_type": "display_data"
    }
   ],
   "source": [
    "fig, axes = plt.subplots(1, 2, sharex=True, sharey=False, figsize=(10, 3))\n",
    "for i, ser_nm in enumerate(pivot_dist_lim.columns):\n",
    "    # Plot data, fit\n",
    "    ax1 = axes[i]\n",
    "    ax1.plot(pivot_dist_lim.index, pivot_dist_lim[ser_nm])\n",
    "    ax1.title.set_text(ser_nm)\n",
    "    ax1.get_yaxis().set_visible(False)\n",
    "# Create a large frame to label x axis\n",
    "ax = fig.add_subplot(111, frameon=False)\n",
    "plt.tick_params(labelcolor='none', top='off', bottom='off', left='off', right='off')\n",
    "ax.set_xlabel('age', labelpad=10, fontsize=14) \n",
    "plt.tight_layout()\n",
    "plt.savefig(os.path.join(local_save_path, 'PLOT_age_dist_race_ethnicity_lim.png'))\n",
    "plt.show()"
   ]
  },
  {
   "cell_type": "markdown",
   "metadata": {},
   "source": [
    "## Demonstration Data Preparation\n",
    "Simulate process that is age-dependent but independent of race/ethnicity.  Use the age 18+ population."
   ]
  },
  {
   "cell_type": "markdown",
   "metadata": {},
   "source": [
    "- Draw 5,000 each random ages from 2 distributions (White Alone, not Hispanic or Latino and Hispanic or Latino)\n",
    "- Calculate age-independent random feature \"x\", as well as noise/random feature \"eta\"\n",
    "- Get target probability for each case - incorporate age, \"x\" and \"eta\"\n",
    "- Get target status based on probability"
   ]
  },
  {
   "cell_type": "markdown",
   "metadata": {},
   "source": [
    "### Draw 5,000 each random ages from 2 distributions (White Alone, not Hispanic or Latino and Hispanic or Latino)\n",
    "I simulate a sample of individuals in two race/ethnicity groups.  I choose the oldest and one of the youngest race/ethnicity groups to show maximum effect of the age difference.  Restrict to the 18+ population.  "
   ]
  },
  {
   "cell_type": "code",
   "execution_count": 32,
   "metadata": {},
   "outputs": [],
   "source": [
    "# Get age 18+ dists for the selected race/ethnicity groups\n",
    "census_selected = census_interpolated_dist[census_interpolated_dist['race_eth'] \\\n",
    "                                           .isin(['WHITE ALONE, NOT HISPANIC OR LATINO',\n",
    "                                                 'HISPANIC OR LATINO']) &\n",
    "                                          (census_interpolated_dist['age_yr'] >=18)]"
   ]
  },
  {
   "cell_type": "code",
   "execution_count": 33,
   "metadata": {},
   "outputs": [],
   "source": [
    "# Function to draw a random sample from the above distributions\n",
    "def sample_age_weighted(data, n=1000,\n",
    "                       weight_var='count_weight'):\n",
    "    \"\"\" Draw sample from an age distribution given in data.\n",
    "    Require the data have cases and weights with nonzero sum\"\"\"\n",
    "    if (len(data) == 0) or np.sum(data[weight_var] == 0):\n",
    "        return pd.DataFrame()\n",
    "    else:\n",
    "        return data.sample(n=n, weights=data[weight_var], replace=True)"
   ]
  },
  {
   "cell_type": "code",
   "execution_count": 34,
   "metadata": {},
   "outputs": [
    {
     "data": {
      "text/html": [
       "<div>\n",
       "<style scoped>\n",
       "    .dataframe tbody tr th:only-of-type {\n",
       "        vertical-align: middle;\n",
       "    }\n",
       "\n",
       "    .dataframe tbody tr th {\n",
       "        vertical-align: top;\n",
       "    }\n",
       "\n",
       "    .dataframe thead th {\n",
       "        text-align: right;\n",
       "    }\n",
       "</style>\n",
       "<table border=\"1\" class=\"dataframe\">\n",
       "  <thead>\n",
       "    <tr style=\"text-align: right;\">\n",
       "      <th></th>\n",
       "      <th>race_eth</th>\n",
       "      <th>age_yr</th>\n",
       "    </tr>\n",
       "  </thead>\n",
       "  <tbody>\n",
       "    <tr>\n",
       "      <th>0</th>\n",
       "      <td>WHITE ALONE, NOT HISPANIC OR LATINO</td>\n",
       "      <td>55.0</td>\n",
       "    </tr>\n",
       "    <tr>\n",
       "      <th>1</th>\n",
       "      <td>WHITE ALONE, NOT HISPANIC OR LATINO</td>\n",
       "      <td>55.0</td>\n",
       "    </tr>\n",
       "    <tr>\n",
       "      <th>2</th>\n",
       "      <td>WHITE ALONE, NOT HISPANIC OR LATINO</td>\n",
       "      <td>52.0</td>\n",
       "    </tr>\n",
       "    <tr>\n",
       "      <th>3</th>\n",
       "      <td>WHITE ALONE, NOT HISPANIC OR LATINO</td>\n",
       "      <td>20.0</td>\n",
       "    </tr>\n",
       "    <tr>\n",
       "      <th>4</th>\n",
       "      <td>WHITE ALONE, NOT HISPANIC OR LATINO</td>\n",
       "      <td>69.0</td>\n",
       "    </tr>\n",
       "  </tbody>\n",
       "</table>\n",
       "</div>"
      ],
      "text/plain": [
       "                              race_eth  age_yr\n",
       "0  WHITE ALONE, NOT HISPANIC OR LATINO    55.0\n",
       "1  WHITE ALONE, NOT HISPANIC OR LATINO    55.0\n",
       "2  WHITE ALONE, NOT HISPANIC OR LATINO    52.0\n",
       "3  WHITE ALONE, NOT HISPANIC OR LATINO    20.0\n",
       "4  WHITE ALONE, NOT HISPANIC OR LATINO    69.0"
      ]
     },
     "execution_count": 34,
     "metadata": {},
     "output_type": "execute_result"
    }
   ],
   "source": [
    "pop_data = census_selected[['race_eth', 'age_yr', 'count_weight']].groupby('race_eth') \\\n",
    "    .apply(lambda x: sample_age_weighted(x, 5000)) \\\n",
    "    .drop(columns='count_weight') \\\n",
    "    .reset_index(drop=True)\n",
    "pop_data.head()"
   ]
  },
  {
   "cell_type": "code",
   "execution_count": 35,
   "metadata": {},
   "outputs": [
    {
     "data": {
      "text/plain": [
       "array([<matplotlib.axes._subplots.AxesSubplot object at 0x7f39bdcf26a0>,\n",
       "       <matplotlib.axes._subplots.AxesSubplot object at 0x7f39bda7f208>],\n",
       "      dtype=object)"
      ]
     },
     "execution_count": 35,
     "metadata": {},
     "output_type": "execute_result"
    },
    {
     "data": {
      "image/png": "[encoded data removed]",
      "text/plain": [
       "<Figure size 432x288 with 2 Axes>"
      ]
     },
     "metadata": {
      "needs_background": "light"
     },
     "output_type": "display_data"
    }
   ],
   "source": [
    "# Quick check of the age distributions\n",
    "pop_data['age_yr'].hist(by=pop_data['race_eth'])"
   ]
  },
  {
   "cell_type": "code",
   "execution_count": 36,
   "metadata": {},
   "outputs": [
    {
     "name": "stdout",
     "output_type": "stream",
     "text": [
      "age_yr    47.7857\n",
      "dtype: float64\n"
     ]
    },
    {
     "data": {
      "text/html": [
       "<div>\n",
       "<style scoped>\n",
       "    .dataframe tbody tr th:only-of-type {\n",
       "        vertical-align: middle;\n",
       "    }\n",
       "\n",
       "    .dataframe tbody tr th {\n",
       "        vertical-align: top;\n",
       "    }\n",
       "\n",
       "    .dataframe thead th {\n",
       "        text-align: right;\n",
       "    }\n",
       "</style>\n",
       "<table border=\"1\" class=\"dataframe\">\n",
       "  <thead>\n",
       "    <tr style=\"text-align: right;\">\n",
       "      <th></th>\n",
       "      <th>age_yr</th>\n",
       "    </tr>\n",
       "    <tr>\n",
       "      <th>race_eth</th>\n",
       "      <th></th>\n",
       "    </tr>\n",
       "  </thead>\n",
       "  <tbody>\n",
       "    <tr>\n",
       "      <th>HISPANIC OR LATINO</th>\n",
       "      <td>43.6982</td>\n",
       "    </tr>\n",
       "    <tr>\n",
       "      <th>WHITE ALONE, NOT HISPANIC OR LATINO</th>\n",
       "      <td>51.8732</td>\n",
       "    </tr>\n",
       "  </tbody>\n",
       "</table>\n",
       "</div>"
      ],
      "text/plain": [
       "                                      age_yr\n",
       "race_eth                                    \n",
       "HISPANIC OR LATINO                   43.6982\n",
       "WHITE ALONE, NOT HISPANIC OR LATINO  51.8732"
      ]
     },
     "execution_count": 36,
     "metadata": {},
     "output_type": "execute_result"
    }
   ],
   "source": [
    "# Show overall mean age, group age\n",
    "print(pop_data.agg({'age_yr':'mean'}))\n",
    "pop_data.groupby('race_eth').agg({'age_yr':'mean'})"
   ]
  },
  {
   "cell_type": "markdown",
   "metadata": {},
   "source": [
    "### Calculate age-independent random feature \"x\", as well as noise/random feature \"eta\"\n",
    "I add an age-independent feature (x) as well as a noise feature to the data.  These are completely random"
   ]
  },
  {
   "cell_type": "code",
   "execution_count": 37,
   "metadata": {},
   "outputs": [],
   "source": [
    "np.random.seed(1)"
   ]
  },
  {
   "cell_type": "code",
   "execution_count": 38,
   "metadata": {},
   "outputs": [],
   "source": [
    "pop_data['x'] = np.random.normal(size = pop_data.shape[0])"
   ]
  },
  {
   "cell_type": "code",
   "execution_count": 39,
   "metadata": {},
   "outputs": [],
   "source": [
    "pop_data['eta'] = np.random.normal(size = pop_data.shape[0])"
   ]
  },
  {
   "cell_type": "code",
   "execution_count": 40,
   "metadata": {},
   "outputs": [
    {
     "data": {
      "text/html": [
       "<div>\n",
       "<style scoped>\n",
       "    .dataframe tbody tr th:only-of-type {\n",
       "        vertical-align: middle;\n",
       "    }\n",
       "\n",
       "    .dataframe tbody tr th {\n",
       "        vertical-align: top;\n",
       "    }\n",
       "\n",
       "    .dataframe thead th {\n",
       "        text-align: right;\n",
       "    }\n",
       "</style>\n",
       "<table border=\"1\" class=\"dataframe\">\n",
       "  <thead>\n",
       "    <tr style=\"text-align: right;\">\n",
       "      <th></th>\n",
       "      <th>race_eth</th>\n",
       "      <th>age_yr</th>\n",
       "      <th>x</th>\n",
       "      <th>eta</th>\n",
       "    </tr>\n",
       "  </thead>\n",
       "  <tbody>\n",
       "    <tr>\n",
       "      <th>0</th>\n",
       "      <td>WHITE ALONE, NOT HISPANIC OR LATINO</td>\n",
       "      <td>55.0</td>\n",
       "      <td>1.624345</td>\n",
       "      <td>-0.122474</td>\n",
       "    </tr>\n",
       "    <tr>\n",
       "      <th>1</th>\n",
       "      <td>WHITE ALONE, NOT HISPANIC OR LATINO</td>\n",
       "      <td>55.0</td>\n",
       "      <td>-0.611756</td>\n",
       "      <td>0.228170</td>\n",
       "    </tr>\n",
       "    <tr>\n",
       "      <th>2</th>\n",
       "      <td>WHITE ALONE, NOT HISPANIC OR LATINO</td>\n",
       "      <td>52.0</td>\n",
       "      <td>-0.528172</td>\n",
       "      <td>-0.352305</td>\n",
       "    </tr>\n",
       "    <tr>\n",
       "      <th>3</th>\n",
       "      <td>WHITE ALONE, NOT HISPANIC OR LATINO</td>\n",
       "      <td>20.0</td>\n",
       "      <td>-1.072969</td>\n",
       "      <td>-0.830553</td>\n",
       "    </tr>\n",
       "    <tr>\n",
       "      <th>4</th>\n",
       "      <td>WHITE ALONE, NOT HISPANIC OR LATINO</td>\n",
       "      <td>69.0</td>\n",
       "      <td>0.865408</td>\n",
       "      <td>-0.261090</td>\n",
       "    </tr>\n",
       "  </tbody>\n",
       "</table>\n",
       "</div>"
      ],
      "text/plain": [
       "                              race_eth  age_yr         x       eta\n",
       "0  WHITE ALONE, NOT HISPANIC OR LATINO    55.0  1.624345 -0.122474\n",
       "1  WHITE ALONE, NOT HISPANIC OR LATINO    55.0 -0.611756  0.228170\n",
       "2  WHITE ALONE, NOT HISPANIC OR LATINO    52.0 -0.528172 -0.352305\n",
       "3  WHITE ALONE, NOT HISPANIC OR LATINO    20.0 -1.072969 -0.830553\n",
       "4  WHITE ALONE, NOT HISPANIC OR LATINO    69.0  0.865408 -0.261090"
      ]
     },
     "execution_count": 40,
     "metadata": {},
     "output_type": "execute_result"
    }
   ],
   "source": [
    "pop_data.head()"
   ]
  },
  {
   "cell_type": "markdown",
   "metadata": {},
   "source": [
    "### Get target probability for each case - incorporate age, \"x\" and \"eta\"\n",
    "\"x\" and \"age\" have roughly similar contributions, eta is much smaller.  I don't standardize the age feature."
   ]
  },
  {
   "cell_type": "code",
   "execution_count": 41,
   "metadata": {},
   "outputs": [],
   "source": [
    "# Function to get linear equation y = age + x + eta\n",
    "def lineq(age, x, eta, coef_int = -6,\n",
    "          coef_age = 1/10, coef_x = 1, coef_eta = 0.1):\n",
    "    return (coef_int + coef_age * age + \n",
    "            coef_x * x  + \n",
    "            coef_eta * eta)"
   ]
  },
  {
   "cell_type": "code",
   "execution_count": 42,
   "metadata": {},
   "outputs": [],
   "source": [
    "# Add the linear equation to the age\n",
    "pop_data['sim_lin'] = pop_data.apply(lambda x: lineq(x.age_yr, x.x, x.eta), axis=1)"
   ]
  },
  {
   "cell_type": "code",
   "execution_count": 43,
   "metadata": {},
   "outputs": [],
   "source": [
    "# Simulate the probability based on the linear equation\n",
    "pop_data['sim_prob'] = pop_data['sim_lin'].apply(expit)"
   ]
  },
  {
   "cell_type": "code",
   "execution_count": 44,
   "metadata": {},
   "outputs": [],
   "source": [
    "# Check probability averages, distributions"
   ]
  },
  {
   "cell_type": "code",
   "execution_count": 45,
   "metadata": {},
   "outputs": [
    {
     "data": {
      "text/plain": [
       "sim_prob    0.329845\n",
       "dtype: float64"
      ]
     },
     "execution_count": 45,
     "metadata": {},
     "output_type": "execute_result"
    }
   ],
   "source": [
    "pop_data.agg({'sim_prob':'mean'})"
   ]
  },
  {
   "cell_type": "code",
   "execution_count": 46,
   "metadata": {},
   "outputs": [
    {
     "data": {
      "text/html": [
       "<div>\n",
       "<style scoped>\n",
       "    .dataframe tbody tr th:only-of-type {\n",
       "        vertical-align: middle;\n",
       "    }\n",
       "\n",
       "    .dataframe tbody tr th {\n",
       "        vertical-align: top;\n",
       "    }\n",
       "\n",
       "    .dataframe thead th {\n",
       "        text-align: right;\n",
       "    }\n",
       "</style>\n",
       "<table border=\"1\" class=\"dataframe\">\n",
       "  <thead>\n",
       "    <tr style=\"text-align: right;\">\n",
       "      <th></th>\n",
       "      <th>sim_prob</th>\n",
       "    </tr>\n",
       "    <tr>\n",
       "      <th>race_eth</th>\n",
       "      <th></th>\n",
       "    </tr>\n",
       "  </thead>\n",
       "  <tbody>\n",
       "    <tr>\n",
       "      <th>HISPANIC OR LATINO</th>\n",
       "      <td>0.266758</td>\n",
       "    </tr>\n",
       "    <tr>\n",
       "      <th>WHITE ALONE, NOT HISPANIC OR LATINO</th>\n",
       "      <td>0.392932</td>\n",
       "    </tr>\n",
       "  </tbody>\n",
       "</table>\n",
       "</div>"
      ],
      "text/plain": [
       "                                     sim_prob\n",
       "race_eth                                     \n",
       "HISPANIC OR LATINO                   0.266758\n",
       "WHITE ALONE, NOT HISPANIC OR LATINO  0.392932"
      ]
     },
     "execution_count": 46,
     "metadata": {},
     "output_type": "execute_result"
    }
   ],
   "source": [
    "pop_data.groupby('race_eth').agg({'sim_prob':'mean'})"
   ]
  },
  {
   "cell_type": "code",
   "execution_count": 47,
   "metadata": {},
   "outputs": [
    {
     "data": {
      "text/plain": [
       "array([<matplotlib.axes._subplots.AxesSubplot object at 0x7f39bd9be2b0>,\n",
       "       <matplotlib.axes._subplots.AxesSubplot object at 0x7f39bdf9a240>],\n",
       "      dtype=object)"
      ]
     },
     "execution_count": 47,
     "metadata": {},
     "output_type": "execute_result"
    },
    {
     "data": {
      "image/png": "[encoded data removed]",
      "text/plain": [
       "<Figure size 432x288 with 2 Axes>"
      ]
     },
     "metadata": {
      "needs_background": "light"
     },
     "output_type": "display_data"
    }
   ],
   "source": [
    "pop_data['sim_prob'].hist(by=pop_data['race_eth'])"
   ]
  },
  {
   "cell_type": "markdown",
   "metadata": {},
   "source": [
    "### Get target status based on probability\n",
    "Note that the rate of target status for white alone, not hispanic or latino is nearly double hispanic or latino, based on the strong age feature."
   ]
  },
  {
   "cell_type": "code",
   "execution_count": 48,
   "metadata": {},
   "outputs": [],
   "source": [
    "pop_data['targ_status'] = np.random.binomial(1, pop_data['sim_lin'].apply(expit), \n",
    "                                          size=pop_data.shape[0])"
   ]
  },
  {
   "cell_type": "code",
   "execution_count": 49,
   "metadata": {},
   "outputs": [
    {
     "data": {
      "text/html": [
       "<div>\n",
       "<style scoped>\n",
       "    .dataframe tbody tr th:only-of-type {\n",
       "        vertical-align: middle;\n",
       "    }\n",
       "\n",
       "    .dataframe tbody tr th {\n",
       "        vertical-align: top;\n",
       "    }\n",
       "\n",
       "    .dataframe thead th {\n",
       "        text-align: right;\n",
       "    }\n",
       "</style>\n",
       "<table border=\"1\" class=\"dataframe\">\n",
       "  <thead>\n",
       "    <tr style=\"text-align: right;\">\n",
       "      <th></th>\n",
       "      <th>targ_status</th>\n",
       "    </tr>\n",
       "    <tr>\n",
       "      <th>race_eth</th>\n",
       "      <th></th>\n",
       "    </tr>\n",
       "  </thead>\n",
       "  <tbody>\n",
       "    <tr>\n",
       "      <th>HISPANIC OR LATINO</th>\n",
       "      <td>0.2764</td>\n",
       "    </tr>\n",
       "    <tr>\n",
       "      <th>WHITE ALONE, NOT HISPANIC OR LATINO</th>\n",
       "      <td>0.3880</td>\n",
       "    </tr>\n",
       "  </tbody>\n",
       "</table>\n",
       "</div>"
      ],
      "text/plain": [
       "                                     targ_status\n",
       "race_eth                                        \n",
       "HISPANIC OR LATINO                        0.2764\n",
       "WHITE ALONE, NOT HISPANIC OR LATINO       0.3880"
      ]
     },
     "execution_count": 49,
     "metadata": {},
     "output_type": "execute_result"
    }
   ],
   "source": [
    "pop_data.groupby('race_eth').agg({'targ_status': 'mean'})"
   ]
  },
  {
   "cell_type": "markdown",
   "metadata": {},
   "source": [
    "## Logistic Regression Modeling\n",
    "Use the data to get two logistic regression models:\n",
    "- y = x + age\n",
    "- y = x\n",
    "\n",
    "For the first model, we should see fit coefficients similar to our inputs. \n",
    "\n",
    "For both, *show model probability distributions and 0.5 threshold*."
   ]
  },
  {
   "cell_type": "code",
   "execution_count": 50,
   "metadata": {},
   "outputs": [],
   "source": [
    "X_x_age = pop_data[['x', 'age_yr']]\n",
    "X_x = pop_data[['x']]\n",
    "y = pop_data['targ_status']"
   ]
  },
  {
   "cell_type": "code",
   "execution_count": 51,
   "metadata": {},
   "outputs": [],
   "source": [
    "from sklearn.linear_model import LogisticRegression"
   ]
  },
  {
   "cell_type": "code",
   "execution_count": 52,
   "metadata": {},
   "outputs": [],
   "source": [
    "# Fit 2 models\n",
    "clf_x_age = LogisticRegression(random_state=0,  fit_intercept=True).fit(X_x_age, y)\n",
    "clf_x = LogisticRegression(random_state=0,  fit_intercept=True).fit(X_x, y)"
   ]
  },
  {
   "cell_type": "code",
   "execution_count": 53,
   "metadata": {},
   "outputs": [
    {
     "name": "stdout",
     "output_type": "stream",
     "text": [
      "   model  intercept         x       age\n",
      "0  x_age  -6.018028  1.064978  0.100525\n",
      "1      x  -0.769743  0.651085       NaN\n"
     ]
    }
   ],
   "source": [
    "# Coefficients to data frame\n",
    "coef_df = pd.DataFrame.from_dict({'model': ['x_age', 'x'],\n",
    "                        'intercept': [clf_x_age.intercept_[0], clf_x.intercept_[0]],\n",
    "                        'x': [clf_x_age.coef_[0,0], clf_x.coef_[0,0]],\n",
    "                        'age': [clf_x_age.coef_[0,1], None]})\n",
    "print(coef_df)"
   ]
  },
  {
   "cell_type": "code",
   "execution_count": 54,
   "metadata": {},
   "outputs": [],
   "source": [
    "# Save the coefficients\n",
    "coef_df.to_csv(os.path.join(local_save_path, 'DATA_regression_fit_coef.csv'), index=False)"
   ]
  },
  {
   "cell_type": "code",
   "execution_count": 55,
   "metadata": {},
   "outputs": [],
   "source": [
    "# Generate predictions - probability and normal scales.  Save to a new data frame\n",
    "prediction_df = pd.DataFrame.from_dict({'prob_x_age': clf_x_age.predict_proba(X_x_age)[:,1],\n",
    "                                        'prob_x': clf_x.predict_proba(X_x)[:,1],\n",
    "                                       'targ_x_age':clf_x_age.predict(X_x_age),\n",
    "                                       'targ_x': clf_x.predict(X_x)})"
   ]
  },
  {
   "cell_type": "code",
   "execution_count": 56,
   "metadata": {},
   "outputs": [
    {
     "data": {
      "text/html": [
       "<div>\n",
       "<style scoped>\n",
       "    .dataframe tbody tr th:only-of-type {\n",
       "        vertical-align: middle;\n",
       "    }\n",
       "\n",
       "    .dataframe tbody tr th {\n",
       "        vertical-align: top;\n",
       "    }\n",
       "\n",
       "    .dataframe thead th {\n",
       "        text-align: right;\n",
       "    }\n",
       "</style>\n",
       "<table border=\"1\" class=\"dataframe\">\n",
       "  <thead>\n",
       "    <tr style=\"text-align: right;\">\n",
       "      <th></th>\n",
       "      <th>race_eth</th>\n",
       "      <th>age_yr</th>\n",
       "      <th>x</th>\n",
       "      <th>eta</th>\n",
       "      <th>sim_lin</th>\n",
       "      <th>sim_prob</th>\n",
       "      <th>targ_status</th>\n",
       "      <th>prob_x_age</th>\n",
       "      <th>prob_x</th>\n",
       "      <th>targ_x_age</th>\n",
       "      <th>targ_x</th>\n",
       "    </tr>\n",
       "  </thead>\n",
       "  <tbody>\n",
       "    <tr>\n",
       "      <th>0</th>\n",
       "      <td>WHITE ALONE, NOT HISPANIC OR LATINO</td>\n",
       "      <td>55.0</td>\n",
       "      <td>1.624345</td>\n",
       "      <td>-0.122474</td>\n",
       "      <td>1.112098</td>\n",
       "      <td>0.752520</td>\n",
       "      <td>1</td>\n",
       "      <td>0.775692</td>\n",
       "      <td>0.571468</td>\n",
       "      <td>1</td>\n",
       "      <td>1</td>\n",
       "    </tr>\n",
       "    <tr>\n",
       "      <th>1</th>\n",
       "      <td>WHITE ALONE, NOT HISPANIC OR LATINO</td>\n",
       "      <td>55.0</td>\n",
       "      <td>-0.611756</td>\n",
       "      <td>0.228170</td>\n",
       "      <td>-1.088939</td>\n",
       "      <td>0.251818</td>\n",
       "      <td>0</td>\n",
       "      <td>0.242198</td>\n",
       "      <td>0.237208</td>\n",
       "      <td>0</td>\n",
       "      <td>0</td>\n",
       "    </tr>\n",
       "    <tr>\n",
       "      <th>2</th>\n",
       "      <td>WHITE ALONE, NOT HISPANIC OR LATINO</td>\n",
       "      <td>52.0</td>\n",
       "      <td>-0.528172</td>\n",
       "      <td>-0.352305</td>\n",
       "      <td>-1.363402</td>\n",
       "      <td>0.203688</td>\n",
       "      <td>0</td>\n",
       "      <td>0.205344</td>\n",
       "      <td>0.247195</td>\n",
       "      <td>0</td>\n",
       "      <td>0</td>\n",
       "    </tr>\n",
       "    <tr>\n",
       "      <th>3</th>\n",
       "      <td>WHITE ALONE, NOT HISPANIC OR LATINO</td>\n",
       "      <td>20.0</td>\n",
       "      <td>-1.072969</td>\n",
       "      <td>-0.830553</td>\n",
       "      <td>-5.156024</td>\n",
       "      <td>0.005732</td>\n",
       "      <td>0</td>\n",
       "      <td>0.005765</td>\n",
       "      <td>0.187196</td>\n",
       "      <td>0</td>\n",
       "      <td>0</td>\n",
       "    </tr>\n",
       "    <tr>\n",
       "      <th>4</th>\n",
       "      <td>WHITE ALONE, NOT HISPANIC OR LATINO</td>\n",
       "      <td>69.0</td>\n",
       "      <td>0.865408</td>\n",
       "      <td>-0.261090</td>\n",
       "      <td>1.739299</td>\n",
       "      <td>0.850598</td>\n",
       "      <td>1</td>\n",
       "      <td>0.862929</td>\n",
       "      <td>0.448610</td>\n",
       "      <td>1</td>\n",
       "      <td>0</td>\n",
       "    </tr>\n",
       "  </tbody>\n",
       "</table>\n",
       "</div>"
      ],
      "text/plain": [
       "                              race_eth  age_yr         x       eta   sim_lin  \\\n",
       "0  WHITE ALONE, NOT HISPANIC OR LATINO    55.0  1.624345 -0.122474  1.112098   \n",
       "1  WHITE ALONE, NOT HISPANIC OR LATINO    55.0 -0.611756  0.228170 -1.088939   \n",
       "2  WHITE ALONE, NOT HISPANIC OR LATINO    52.0 -0.528172 -0.352305 -1.363402   \n",
       "3  WHITE ALONE, NOT HISPANIC OR LATINO    20.0 -1.072969 -0.830553 -5.156024   \n",
       "4  WHITE ALONE, NOT HISPANIC OR LATINO    69.0  0.865408 -0.261090  1.739299   \n",
       "\n",
       "   sim_prob  targ_status  prob_x_age    prob_x  targ_x_age  targ_x  \n",
       "0  0.752520            1    0.775692  0.571468           1       1  \n",
       "1  0.251818            0    0.242198  0.237208           0       0  \n",
       "2  0.203688            0    0.205344  0.247195           0       0  \n",
       "3  0.005732            0    0.005765  0.187196           0       0  \n",
       "4  0.850598            1    0.862929  0.448610           1       0  "
      ]
     },
     "execution_count": 56,
     "metadata": {},
     "output_type": "execute_result"
    }
   ],
   "source": [
    "# Concatenate data, predictions to simplify future steps\n",
    "pop_pred_data = pd.concat([pop_data, prediction_df], axis=1)\n",
    "pop_pred_data.head()"
   ]
  },
  {
   "cell_type": "code",
   "execution_count": 57,
   "metadata": {},
   "outputs": [
    {
     "name": "stdout",
     "output_type": "stream",
     "text": [
      "           prob_x_age          \n",
      "                  min       max\n",
      "targ_x_age                     \n",
      "0            0.000500  0.499857\n",
      "1            0.500211  0.998124\n",
      "          prob_x          \n",
      "             min       max\n",
      "targ_x                    \n",
      "0       0.041076  0.499923\n",
      "1       0.500050  0.864371\n"
     ]
    }
   ],
   "source": [
    "# Show status boundaries - verify decision thresholds near 50%\n",
    "print(pop_pred_data[['targ_x_age', 'prob_x_age']].groupby('targ_x_age').agg(['min', 'max']))\n",
    "print(pop_pred_data[['targ_x', 'prob_x']].groupby('targ_x').agg(['min', 'max']))"
   ]
  },
  {
   "cell_type": "markdown",
   "metadata": {},
   "source": [
    "#### Confusion matrices"
   ]
  },
  {
   "cell_type": "code",
   "execution_count": 58,
   "metadata": {},
   "outputs": [
    {
     "data": {
      "text/html": [
       "<div>\n",
       "<style scoped>\n",
       "    .dataframe tbody tr th:only-of-type {\n",
       "        vertical-align: middle;\n",
       "    }\n",
       "\n",
       "    .dataframe tbody tr th {\n",
       "        vertical-align: top;\n",
       "    }\n",
       "\n",
       "    .dataframe thead tr th {\n",
       "        text-align: left;\n",
       "    }\n",
       "\n",
       "    .dataframe thead tr:last-of-type th {\n",
       "        text-align: right;\n",
       "    }\n",
       "</style>\n",
       "<table border=\"1\" class=\"dataframe\">\n",
       "  <thead>\n",
       "    <tr>\n",
       "      <th>race_eth</th>\n",
       "      <th colspan=\"2\" halign=\"left\">HISPANIC OR LATINO</th>\n",
       "      <th colspan=\"2\" halign=\"left\">WHITE ALONE, NOT HISPANIC OR LATINO</th>\n",
       "    </tr>\n",
       "    <tr>\n",
       "      <th>targ_x_age</th>\n",
       "      <th>0</th>\n",
       "      <th>1</th>\n",
       "      <th>0</th>\n",
       "      <th>1</th>\n",
       "    </tr>\n",
       "    <tr>\n",
       "      <th>targ_status</th>\n",
       "      <th></th>\n",
       "      <th></th>\n",
       "      <th></th>\n",
       "      <th></th>\n",
       "    </tr>\n",
       "  </thead>\n",
       "  <tbody>\n",
       "    <tr>\n",
       "      <th>0</th>\n",
       "      <td>3368</td>\n",
       "      <td>250</td>\n",
       "      <td>2607</td>\n",
       "      <td>453</td>\n",
       "    </tr>\n",
       "    <tr>\n",
       "      <th>1</th>\n",
       "      <td>563</td>\n",
       "      <td>819</td>\n",
       "      <td>500</td>\n",
       "      <td>1440</td>\n",
       "    </tr>\n",
       "  </tbody>\n",
       "</table>\n",
       "</div>"
      ],
      "text/plain": [
       "race_eth    HISPANIC OR LATINO      WHITE ALONE, NOT HISPANIC OR LATINO      \n",
       "targ_x_age                   0    1                                   0     1\n",
       "targ_status                                                                  \n",
       "0                         3368  250                                2607   453\n",
       "1                          563  819                                 500  1440"
      ]
     },
     "execution_count": 58,
     "metadata": {},
     "output_type": "execute_result"
    }
   ],
   "source": [
    "pd.crosstab(pop_pred_data['targ_status'], [pop_pred_data['race_eth'], pop_pred_data['targ_x_age']])"
   ]
  },
  {
   "cell_type": "code",
   "execution_count": 59,
   "metadata": {},
   "outputs": [
    {
     "data": {
      "text/html": [
       "<div>\n",
       "<style scoped>\n",
       "    .dataframe tbody tr th:only-of-type {\n",
       "        vertical-align: middle;\n",
       "    }\n",
       "\n",
       "    .dataframe tbody tr th {\n",
       "        vertical-align: top;\n",
       "    }\n",
       "\n",
       "    .dataframe thead tr th {\n",
       "        text-align: left;\n",
       "    }\n",
       "\n",
       "    .dataframe thead tr:last-of-type th {\n",
       "        text-align: right;\n",
       "    }\n",
       "</style>\n",
       "<table border=\"1\" class=\"dataframe\">\n",
       "  <thead>\n",
       "    <tr>\n",
       "      <th>race_eth</th>\n",
       "      <th colspan=\"2\" halign=\"left\">HISPANIC OR LATINO</th>\n",
       "      <th colspan=\"2\" halign=\"left\">WHITE ALONE, NOT HISPANIC OR LATINO</th>\n",
       "    </tr>\n",
       "    <tr>\n",
       "      <th>targ_x</th>\n",
       "      <th>0</th>\n",
       "      <th>1</th>\n",
       "      <th>0</th>\n",
       "      <th>1</th>\n",
       "    </tr>\n",
       "    <tr>\n",
       "      <th>targ_status</th>\n",
       "      <th></th>\n",
       "      <th></th>\n",
       "      <th></th>\n",
       "      <th></th>\n",
       "    </tr>\n",
       "  </thead>\n",
       "  <tbody>\n",
       "    <tr>\n",
       "      <th>0</th>\n",
       "      <td>3344</td>\n",
       "      <td>274</td>\n",
       "      <td>2828</td>\n",
       "      <td>232</td>\n",
       "    </tr>\n",
       "    <tr>\n",
       "      <th>1</th>\n",
       "      <td>1072</td>\n",
       "      <td>310</td>\n",
       "      <td>1570</td>\n",
       "      <td>370</td>\n",
       "    </tr>\n",
       "  </tbody>\n",
       "</table>\n",
       "</div>"
      ],
      "text/plain": [
       "race_eth    HISPANIC OR LATINO      WHITE ALONE, NOT HISPANIC OR LATINO     \n",
       "targ_x                       0    1                                   0    1\n",
       "targ_status                                                                 \n",
       "0                         3344  274                                2828  232\n",
       "1                         1072  310                                1570  370"
      ]
     },
     "execution_count": 59,
     "metadata": {},
     "output_type": "execute_result"
    }
   ],
   "source": [
    "pd.crosstab(pop_pred_data['targ_status'], [pop_pred_data['race_eth'], pop_pred_data['targ_x']])"
   ]
  },
  {
   "cell_type": "markdown",
   "metadata": {},
   "source": [
    "#### Model probability distributions by race/ethnicity"
   ]
  },
  {
   "cell_type": "code",
   "execution_count": 60,
   "metadata": {},
   "outputs": [],
   "source": [
    "# Function to return KDE estimates\n",
    "def kde_est_race_eth(X, selected_race_ethnicity, data, prob_col = 'prob_x_age'):\n",
    "    \"\"\" Return the Gaussian kernel density estimates for probability distributions.\n",
    "    Selects one race/ethnicity groups and then fits the KDE.  Returns a data frame\n",
    "    containing the distribution.\n",
    "    Returns a data frame containing both distributions.\n",
    "        Input parameters:\n",
    "            X: The x-values for the probability distribution.  Probably array of values in [0,1]\n",
    "            selected_race_ethnicity: String containing the racial/ethnic group to analyze\n",
    "            data: Data for the population of interest, with predictions (model inputs and outputs)\n",
    "            prob_col: Name of the column containing the probabilty for which to generate a KDE \"\"\"\n",
    "    sel_pred = data[data['race_eth'] == selected_race_ethnicity]\n",
    "    sel_gauss_kde = gaussian_kde(sel_pred[prob_col].astype('float'))\n",
    "    score_dist = sel_gauss_kde(X)\n",
    "    score_dist_df = pd.DataFrame.from_dict({'x': X,\n",
    "                                            'race_eth': selected_race_ethnicity,\n",
    "                                            'dist': score_dist})\n",
    "    return score_dist_df"
   ]
  },
  {
   "cell_type": "code",
   "execution_count": 61,
   "metadata": {},
   "outputs": [
    {
     "data": {
      "text/html": [
       "<div>\n",
       "<style scoped>\n",
       "    .dataframe tbody tr th:only-of-type {\n",
       "        vertical-align: middle;\n",
       "    }\n",
       "\n",
       "    .dataframe tbody tr th {\n",
       "        vertical-align: top;\n",
       "    }\n",
       "\n",
       "    .dataframe thead th {\n",
       "        text-align: right;\n",
       "    }\n",
       "</style>\n",
       "<table border=\"1\" class=\"dataframe\">\n",
       "  <thead>\n",
       "    <tr style=\"text-align: right;\">\n",
       "      <th></th>\n",
       "      <th>x</th>\n",
       "      <th>race_eth</th>\n",
       "      <th>dist_x_age</th>\n",
       "      <th>dist_x</th>\n",
       "    </tr>\n",
       "  </thead>\n",
       "  <tbody>\n",
       "    <tr>\n",
       "      <th>0</th>\n",
       "      <td>0.000000</td>\n",
       "      <td>WHITE ALONE, NOT HISPANIC OR LATINO</td>\n",
       "      <td>1.541730</td>\n",
       "      <td>0.002089</td>\n",
       "    </tr>\n",
       "    <tr>\n",
       "      <th>1</th>\n",
       "      <td>0.005025</td>\n",
       "      <td>WHITE ALONE, NOT HISPANIC OR LATINO</td>\n",
       "      <td>1.614963</td>\n",
       "      <td>0.003562</td>\n",
       "    </tr>\n",
       "    <tr>\n",
       "      <th>2</th>\n",
       "      <td>0.010050</td>\n",
       "      <td>WHITE ALONE, NOT HISPANIC OR LATINO</td>\n",
       "      <td>1.682944</td>\n",
       "      <td>0.005877</td>\n",
       "    </tr>\n",
       "    <tr>\n",
       "      <th>3</th>\n",
       "      <td>0.015075</td>\n",
       "      <td>WHITE ALONE, NOT HISPANIC OR LATINO</td>\n",
       "      <td>1.744934</td>\n",
       "      <td>0.009395</td>\n",
       "    </tr>\n",
       "    <tr>\n",
       "      <th>4</th>\n",
       "      <td>0.020101</td>\n",
       "      <td>WHITE ALONE, NOT HISPANIC OR LATINO</td>\n",
       "      <td>1.800295</td>\n",
       "      <td>0.014560</td>\n",
       "    </tr>\n",
       "  </tbody>\n",
       "</table>\n",
       "</div>"
      ],
      "text/plain": [
       "          x                             race_eth  dist_x_age    dist_x\n",
       "0  0.000000  WHITE ALONE, NOT HISPANIC OR LATINO    1.541730  0.002089\n",
       "1  0.005025  WHITE ALONE, NOT HISPANIC OR LATINO    1.614963  0.003562\n",
       "2  0.010050  WHITE ALONE, NOT HISPANIC OR LATINO    1.682944  0.005877\n",
       "3  0.015075  WHITE ALONE, NOT HISPANIC OR LATINO    1.744934  0.009395\n",
       "4  0.020101  WHITE ALONE, NOT HISPANIC OR LATINO    1.800295  0.014560"
      ]
     },
     "execution_count": 61,
     "metadata": {},
     "output_type": "execute_result"
    }
   ],
   "source": [
    "# Generate KDEs for both models\n",
    "score_dist_x = np.linspace(0, 1, 200)\n",
    "kde_x_age = pd.concat([kde_est_race_eth(score_dist_x, 'WHITE ALONE, NOT HISPANIC OR LATINO', pop_pred_data),\n",
    "                          kde_est_race_eth(score_dist_x, 'HISPANIC OR LATINO', pop_pred_data)], axis=0) \\\n",
    "    .rename(columns = {'dist':'dist_x_age'})\n",
    "kde_x = pd.concat([kde_est_race_eth(score_dist_x, 'WHITE ALONE, NOT HISPANIC OR LATINO', \n",
    "                                    pop_pred_data, 'prob_x'),\n",
    "                          kde_est_race_eth(score_dist_x, 'HISPANIC OR LATINO', \n",
    "                                           pop_pred_data, 'prob_x')], axis=0) \\\n",
    "    .rename(columns = {'dist':'dist_x'})\n",
    "kde_df = kde_x_age.merge(kde_x, on=['x', 'race_eth'])\n",
    "kde_df.head()"
   ]
  },
  {
   "cell_type": "code",
   "execution_count": 62,
   "metadata": {},
   "outputs": [],
   "source": [
    "# Function to plot and save \n",
    "def dist_plot_save(data, value_col = 'dist_x_age',\n",
    "                   plt_title = 'Logistic regression model for y=x=age',\n",
    "                   x_label = 'model probability',\n",
    "                   out_fn = None):\n",
    "    \"\"\" Plots the KDE from one of the models.  Optionally saves the plot \"\"\"\n",
    "    maxv = np.max(data[value_col]) * 1.05\n",
    "    pivot_data = data.pivot(index='x', columns='race_eth', values=value_col)\n",
    "    labels = [ '\\n'.join(wrap(l, 20)) for l in pivot_data.columns]\n",
    "    \n",
    "    plt.figure()\n",
    "    pivot_data.plot()\n",
    "    plt.vlines(0.5, 0, maxv, linestyles='dashed')\n",
    "    plt.gca().set_ylim(0, maxv)\n",
    "    plt.legend(title=None, framealpha=1, labels=labels,\n",
    "              loc='upper right')\n",
    "    plt.xlabel(x_label)\n",
    "    plt.tick_params(axis='y', which='both', left=False, labelleft=False)\n",
    "    plt.gca().xaxis.set_major_formatter(matplotlib.ticker.PercentFormatter(1))\n",
    "    plt.ylabel('distribution')\n",
    "    plt.title(plt_title)\n",
    "    if (out_fn is not None):\n",
    "        plt.savefig(out_fn, bbox_inches='tight')\n",
    "    plt.show()"
   ]
  },
  {
   "cell_type": "code",
   "execution_count": 63,
   "metadata": {},
   "outputs": [
    {
     "data": {
      "text/plain": [
       "<Figure size 432x288 with 0 Axes>"
      ]
     },
     "metadata": {},
     "output_type": "display_data"
    },
    {
     "data": {
      "image/png": "[encoded data removed]",
      "text/plain": [
       "<Figure size 432x288 with 1 Axes>"
      ]
     },
     "metadata": {
      "needs_background": "light"
     },
     "output_type": "display_data"
    }
   ],
   "source": [
    "# Plot the x_age model distributions\n",
    "dist_plot_save(kde_df, value_col = 'dist_x_age',\n",
    "               plt_title = 'Logistic regression model for y=x=age',\n",
    "               out_fn = os.path.join(local_save_path, 'PLOT_model_prob_dist_x_age.png'))"
   ]
  },
  {
   "cell_type": "code",
   "execution_count": 64,
   "metadata": {},
   "outputs": [
    {
     "data": {
      "text/plain": [
       "<Figure size 432x288 with 0 Axes>"
      ]
     },
     "metadata": {},
     "output_type": "display_data"
    },
    {
     "data": {
      "image/png": "[encoded data removed]",
      "text/plain": [
       "<Figure size 432x288 with 1 Axes>"
      ]
     },
     "metadata": {
      "needs_background": "light"
     },
     "output_type": "display_data"
    }
   ],
   "source": [
    "# Plot the x only distribution\n",
    "dist_plot_save(kde_df, value_col = 'dist_x',\n",
    "               plt_title = 'Logistic regression model for y=x',\n",
    "               out_fn = os.path.join(local_save_path, 'PLOT_model_prob_dist_x.png'))"
   ]
  },
  {
   "cell_type": "markdown",
   "metadata": {},
   "source": [
    "#### Plot the \"actual\" probability by race/ethinicity (input simulated probability)\n",
    "This can be compared to the prob_x_age distribution"
   ]
  },
  {
   "cell_type": "code",
   "execution_count": 65,
   "metadata": {},
   "outputs": [],
   "source": [
    "# Actual KDE alone\n",
    "kde_actual_df = pd.concat([kde_est_race_eth(score_dist_x, 'WHITE ALONE, NOT HISPANIC OR LATINO', \n",
    "                                            pop_data, 'sim_prob'),\n",
    "                          kde_est_race_eth(score_dist_x, 'HISPANIC OR LATINO', \n",
    "                                           pop_data, 'sim_prob')], axis=0)"
   ]
  },
  {
   "cell_type": "code",
   "execution_count": 66,
   "metadata": {},
   "outputs": [
    {
     "data": {
      "text/plain": [
       "<Figure size 432x288 with 0 Axes>"
      ]
     },
     "metadata": {},
     "output_type": "display_data"
    },
    {
     "data": {
      "image/png": "[encoded data removed]",
      "text/plain": [
       "<Figure size 432x288 with 1 Axes>"
      ]
     },
     "metadata": {
      "needs_background": "light"
     },
     "output_type": "display_data"
    }
   ],
   "source": [
    "dist_plot_save(kde_actual_df, value_col = 'dist',\n",
    "               plt_title = 'Input (\"actual\") probability',\n",
    "               x_label = 'target probability')"
   ]
  },
  {
   "cell_type": "markdown",
   "metadata": {},
   "source": [
    "# Fairness Metrics\n",
    "I focus on just 3 metrics: False positives, false negatives, and accuracy.  I look at raw metrics, as well as metrics by age category"
   ]
  },
  {
   "cell_type": "markdown",
   "metadata": {},
   "source": [
    "### Functions to calculate metrics"
   ]
  },
  {
   "cell_type": "code",
   "execution_count": 67,
   "metadata": {},
   "outputs": [
    {
     "data": {
      "text/html": [
       "<div>\n",
       "<style scoped>\n",
       "    .dataframe tbody tr th:only-of-type {\n",
       "        vertical-align: middle;\n",
       "    }\n",
       "\n",
       "    .dataframe tbody tr th {\n",
       "        vertical-align: top;\n",
       "    }\n",
       "\n",
       "    .dataframe thead th {\n",
       "        text-align: right;\n",
       "    }\n",
       "</style>\n",
       "<table border=\"1\" class=\"dataframe\">\n",
       "  <thead>\n",
       "    <tr style=\"text-align: right;\">\n",
       "      <th></th>\n",
       "      <th>race_eth</th>\n",
       "      <th>age_yr</th>\n",
       "      <th>x</th>\n",
       "      <th>eta</th>\n",
       "      <th>sim_lin</th>\n",
       "      <th>sim_prob</th>\n",
       "      <th>targ_status</th>\n",
       "      <th>prob_x_age</th>\n",
       "      <th>prob_x</th>\n",
       "      <th>targ_x_age</th>\n",
       "      <th>targ_x</th>\n",
       "    </tr>\n",
       "  </thead>\n",
       "  <tbody>\n",
       "    <tr>\n",
       "      <th>0</th>\n",
       "      <td>WHITE ALONE, NOT HISPANIC OR LATINO</td>\n",
       "      <td>55.0</td>\n",
       "      <td>1.624345</td>\n",
       "      <td>-0.122474</td>\n",
       "      <td>1.112098</td>\n",
       "      <td>0.752520</td>\n",
       "      <td>1</td>\n",
       "      <td>0.775692</td>\n",
       "      <td>0.571468</td>\n",
       "      <td>1</td>\n",
       "      <td>1</td>\n",
       "    </tr>\n",
       "    <tr>\n",
       "      <th>1</th>\n",
       "      <td>WHITE ALONE, NOT HISPANIC OR LATINO</td>\n",
       "      <td>55.0</td>\n",
       "      <td>-0.611756</td>\n",
       "      <td>0.228170</td>\n",
       "      <td>-1.088939</td>\n",
       "      <td>0.251818</td>\n",
       "      <td>0</td>\n",
       "      <td>0.242198</td>\n",
       "      <td>0.237208</td>\n",
       "      <td>0</td>\n",
       "      <td>0</td>\n",
       "    </tr>\n",
       "    <tr>\n",
       "      <th>2</th>\n",
       "      <td>WHITE ALONE, NOT HISPANIC OR LATINO</td>\n",
       "      <td>52.0</td>\n",
       "      <td>-0.528172</td>\n",
       "      <td>-0.352305</td>\n",
       "      <td>-1.363402</td>\n",
       "      <td>0.203688</td>\n",
       "      <td>0</td>\n",
       "      <td>0.205344</td>\n",
       "      <td>0.247195</td>\n",
       "      <td>0</td>\n",
       "      <td>0</td>\n",
       "    </tr>\n",
       "    <tr>\n",
       "      <th>3</th>\n",
       "      <td>WHITE ALONE, NOT HISPANIC OR LATINO</td>\n",
       "      <td>20.0</td>\n",
       "      <td>-1.072969</td>\n",
       "      <td>-0.830553</td>\n",
       "      <td>-5.156024</td>\n",
       "      <td>0.005732</td>\n",
       "      <td>0</td>\n",
       "      <td>0.005765</td>\n",
       "      <td>0.187196</td>\n",
       "      <td>0</td>\n",
       "      <td>0</td>\n",
       "    </tr>\n",
       "    <tr>\n",
       "      <th>4</th>\n",
       "      <td>WHITE ALONE, NOT HISPANIC OR LATINO</td>\n",
       "      <td>69.0</td>\n",
       "      <td>0.865408</td>\n",
       "      <td>-0.261090</td>\n",
       "      <td>1.739299</td>\n",
       "      <td>0.850598</td>\n",
       "      <td>1</td>\n",
       "      <td>0.862929</td>\n",
       "      <td>0.448610</td>\n",
       "      <td>1</td>\n",
       "      <td>0</td>\n",
       "    </tr>\n",
       "  </tbody>\n",
       "</table>\n",
       "</div>"
      ],
      "text/plain": [
       "                              race_eth  age_yr         x       eta   sim_lin  \\\n",
       "0  WHITE ALONE, NOT HISPANIC OR LATINO    55.0  1.624345 -0.122474  1.112098   \n",
       "1  WHITE ALONE, NOT HISPANIC OR LATINO    55.0 -0.611756  0.228170 -1.088939   \n",
       "2  WHITE ALONE, NOT HISPANIC OR LATINO    52.0 -0.528172 -0.352305 -1.363402   \n",
       "3  WHITE ALONE, NOT HISPANIC OR LATINO    20.0 -1.072969 -0.830553 -5.156024   \n",
       "4  WHITE ALONE, NOT HISPANIC OR LATINO    69.0  0.865408 -0.261090  1.739299   \n",
       "\n",
       "   sim_prob  targ_status  prob_x_age    prob_x  targ_x_age  targ_x  \n",
       "0  0.752520            1    0.775692  0.571468           1       1  \n",
       "1  0.251818            0    0.242198  0.237208           0       0  \n",
       "2  0.203688            0    0.205344  0.247195           0       0  \n",
       "3  0.005732            0    0.005765  0.187196           0       0  \n",
       "4  0.850598            1    0.862929  0.448610           1       0  "
      ]
     },
     "execution_count": 67,
     "metadata": {},
     "output_type": "execute_result"
    }
   ],
   "source": [
    "pop_pred_data.head()"
   ]
  },
  {
   "cell_type": "code",
   "execution_count": 68,
   "metadata": {},
   "outputs": [],
   "source": [
    "def metric_fp(data, model_target_col = 'targ_x_age'):\n",
    "    \"\"\" Get false positive rate.  Use the model prediction in the indicated column.\n",
    "    Inputs:\n",
    "        data: Data for the population of interest, with predictions (model inputs and outputs)\n",
    "        model_target_col: Name of the model prediction column\"\"\"\n",
    "    sel_d = np.where(data['targ_status'] == 0, True, False)\n",
    "    fp_ser = np.where(data[sel_d][model_target_col] == 1, 1, 0)\n",
    "    try:\n",
    "        fp_rate = np.mean(fp_ser)\n",
    "    except:\n",
    "        fp_rate = None\n",
    "    return pd.DataFrame.from_dict({'fp_rate': [fp_rate]})"
   ]
  },
  {
   "cell_type": "code",
   "execution_count": 69,
   "metadata": {},
   "outputs": [],
   "source": [
    "def metric_fn(data, model_target_col = 'targ_x_age'):\n",
    "    \"\"\" Get false negative rate.  Use the model prediction in the indicated column.\n",
    "    Inputs:\n",
    "        data: Data for the population of interest, with predictions (model inputs and outputs)\n",
    "        model_target_col: Name of the model prediction column\"\"\"\n",
    "    sel_d = np.where(data['targ_status'] == 1, True, False)\n",
    "    fn_ser = np.where(data[sel_d][model_target_col] == 0, 1, 0)\n",
    "    try:\n",
    "        fn_rate = np.mean(fn_ser)\n",
    "    except:\n",
    "        fn_rate = None\n",
    "    return pd.DataFrame.from_dict({'fn_rate': [fn_rate]})"
   ]
  },
  {
   "cell_type": "code",
   "execution_count": 70,
   "metadata": {},
   "outputs": [],
   "source": [
    "def metric_accuracy(data, model_target_col = 'targ_x_age'):\n",
    "    \"\"\" Get accuracy.  Use the model prediction in the indicated column.\n",
    "    Inputs:\n",
    "        data: Data for the population of interest, with predictions (model inputs and outputs)\n",
    "        model_target_col: Name of the model prediction column\"\"\"\n",
    "    acc_ser = np.where(data['targ_status'] == data[model_target_col], 1, 0)\n",
    "    try:\n",
    "        accuracy = np.mean(acc_ser)\n",
    "    except:\n",
    "        accuracy = None\n",
    "    return pd.DataFrame.from_dict({'accuracy': [accuracy]})"
   ]
  },
  {
   "cell_type": "code",
   "execution_count": 71,
   "metadata": {},
   "outputs": [
    {
     "data": {
      "text/html": [
       "<div>\n",
       "<style scoped>\n",
       "    .dataframe tbody tr th:only-of-type {\n",
       "        vertical-align: middle;\n",
       "    }\n",
       "\n",
       "    .dataframe tbody tr th {\n",
       "        vertical-align: top;\n",
       "    }\n",
       "\n",
       "    .dataframe thead th {\n",
       "        text-align: right;\n",
       "    }\n",
       "</style>\n",
       "<table border=\"1\" class=\"dataframe\">\n",
       "  <thead>\n",
       "    <tr style=\"text-align: right;\">\n",
       "      <th></th>\n",
       "      <th>fp_rate</th>\n",
       "    </tr>\n",
       "  </thead>\n",
       "  <tbody>\n",
       "    <tr>\n",
       "      <th>0</th>\n",
       "      <td>0.105271</td>\n",
       "    </tr>\n",
       "  </tbody>\n",
       "</table>\n",
       "</div>"
      ],
      "text/plain": [
       "    fp_rate\n",
       "0  0.105271"
      ]
     },
     "execution_count": 71,
     "metadata": {},
     "output_type": "execute_result"
    }
   ],
   "source": [
    "metric_fp(pop_pred_data)"
   ]
  },
  {
   "cell_type": "code",
   "execution_count": 72,
   "metadata": {},
   "outputs": [
    {
     "data": {
      "text/html": [
       "<div>\n",
       "<style scoped>\n",
       "    .dataframe tbody tr th:only-of-type {\n",
       "        vertical-align: middle;\n",
       "    }\n",
       "\n",
       "    .dataframe tbody tr th {\n",
       "        vertical-align: top;\n",
       "    }\n",
       "\n",
       "    .dataframe thead th {\n",
       "        text-align: right;\n",
       "    }\n",
       "</style>\n",
       "<table border=\"1\" class=\"dataframe\">\n",
       "  <thead>\n",
       "    <tr style=\"text-align: right;\">\n",
       "      <th></th>\n",
       "      <th>fp_rate</th>\n",
       "    </tr>\n",
       "    <tr>\n",
       "      <th>race_eth</th>\n",
       "      <th></th>\n",
       "    </tr>\n",
       "  </thead>\n",
       "  <tbody>\n",
       "    <tr>\n",
       "      <th>HISPANIC OR LATINO</th>\n",
       "      <td>0.069099</td>\n",
       "    </tr>\n",
       "    <tr>\n",
       "      <th>WHITE ALONE, NOT HISPANIC OR LATINO</th>\n",
       "      <td>0.148039</td>\n",
       "    </tr>\n",
       "  </tbody>\n",
       "</table>\n",
       "</div>"
      ],
      "text/plain": [
       "                                      fp_rate\n",
       "race_eth                                     \n",
       "HISPANIC OR LATINO                   0.069099\n",
       "WHITE ALONE, NOT HISPANIC OR LATINO  0.148039"
      ]
     },
     "execution_count": 72,
     "metadata": {},
     "output_type": "execute_result"
    }
   ],
   "source": [
    "pop_pred_data.groupby('race_eth').apply(lambda x: metric_fp(x)).reset_index(level=1, drop=True)"
   ]
  },
  {
   "cell_type": "markdown",
   "metadata": {},
   "source": [
    "### Metrics by race/ethnicity group only"
   ]
  },
  {
   "cell_type": "code",
   "execution_count": 73,
   "metadata": {},
   "outputs": [],
   "source": [
    "metrics_x_age = pd.concat([pop_pred_data.groupby('race_eth').apply(lambda x: metric_fp(x)),\n",
    "                          pop_pred_data.groupby('race_eth').apply(lambda x: metric_fn(x)),\n",
    "                          pop_pred_data.groupby('race_eth').apply(lambda x: metric_accuracy(x))], axis=1) \\\n",
    "    .reset_index(level=1, drop=True)\n",
    "metrics_x_age['model'] = 'x_age'\n",
    "metrics_x = pd.concat([pop_pred_data.groupby('race_eth').apply(lambda x: metric_fp(x, 'targ_x')),\n",
    "                          pop_pred_data.groupby('race_eth').apply(lambda x: metric_fn(x, 'targ_x')),\n",
    "                          pop_pred_data.groupby('race_eth').apply(lambda x: metric_accuracy(x, 'targ_x'))], axis=1) \\\n",
    "    .reset_index(level=1, drop=True)\n",
    "metrics_x['model'] = 'x'"
   ]
  },
  {
   "cell_type": "code",
   "execution_count": 74,
   "metadata": {},
   "outputs": [
    {
     "data": {
      "text/html": [
       "<div>\n",
       "<style scoped>\n",
       "    .dataframe tbody tr th:only-of-type {\n",
       "        vertical-align: middle;\n",
       "    }\n",
       "\n",
       "    .dataframe tbody tr th {\n",
       "        vertical-align: top;\n",
       "    }\n",
       "\n",
       "    .dataframe thead th {\n",
       "        text-align: right;\n",
       "    }\n",
       "</style>\n",
       "<table border=\"1\" class=\"dataframe\">\n",
       "  <thead>\n",
       "    <tr style=\"text-align: right;\">\n",
       "      <th></th>\n",
       "      <th>race_eth</th>\n",
       "      <th>fp_rate</th>\n",
       "      <th>fn_rate</th>\n",
       "      <th>accuracy</th>\n",
       "      <th>model</th>\n",
       "    </tr>\n",
       "  </thead>\n",
       "  <tbody>\n",
       "    <tr>\n",
       "      <th>0</th>\n",
       "      <td>HISPANIC OR LATINO</td>\n",
       "      <td>0.069099</td>\n",
       "      <td>0.407381</td>\n",
       "      <td>0.8374</td>\n",
       "      <td>x_age</td>\n",
       "    </tr>\n",
       "    <tr>\n",
       "      <th>1</th>\n",
       "      <td>WHITE ALONE, NOT HISPANIC OR LATINO</td>\n",
       "      <td>0.148039</td>\n",
       "      <td>0.257732</td>\n",
       "      <td>0.8094</td>\n",
       "      <td>x_age</td>\n",
       "    </tr>\n",
       "    <tr>\n",
       "      <th>2</th>\n",
       "      <td>HISPANIC OR LATINO</td>\n",
       "      <td>0.075732</td>\n",
       "      <td>0.775687</td>\n",
       "      <td>0.7308</td>\n",
       "      <td>x</td>\n",
       "    </tr>\n",
       "    <tr>\n",
       "      <th>3</th>\n",
       "      <td>WHITE ALONE, NOT HISPANIC OR LATINO</td>\n",
       "      <td>0.075817</td>\n",
       "      <td>0.809278</td>\n",
       "      <td>0.6396</td>\n",
       "      <td>x</td>\n",
       "    </tr>\n",
       "  </tbody>\n",
       "</table>\n",
       "</div>"
      ],
      "text/plain": [
       "                              race_eth   fp_rate   fn_rate  accuracy  model\n",
       "0                   HISPANIC OR LATINO  0.069099  0.407381    0.8374  x_age\n",
       "1  WHITE ALONE, NOT HISPANIC OR LATINO  0.148039  0.257732    0.8094  x_age\n",
       "2                   HISPANIC OR LATINO  0.075732  0.775687    0.7308      x\n",
       "3  WHITE ALONE, NOT HISPANIC OR LATINO  0.075817  0.809278    0.6396      x"
      ]
     },
     "execution_count": 74,
     "metadata": {},
     "output_type": "execute_result"
    }
   ],
   "source": [
    "metrics_race_eth = pd.concat([metrics_x_age, metrics_x]).reset_index()\n",
    "metrics_race_eth"
   ]
  },
  {
   "cell_type": "code",
   "execution_count": 75,
   "metadata": {},
   "outputs": [],
   "source": [
    "metrics_race_eth.to_csv(os.path.join(local_save_path, 'DATA_metrics_by_race_eth.csv'))"
   ]
  },
  {
   "cell_type": "markdown",
   "metadata": {},
   "source": [
    "### Metrics by race/ethnicity plus age category\n",
    "See if metrics \"pass\" when we add an age group.  Use large age buckets."
   ]
  },
  {
   "cell_type": "code",
   "execution_count": 76,
   "metadata": {},
   "outputs": [],
   "source": [
    "age_cond = [pop_pred_data.age_yr < 30,\n",
    "           (pop_pred_data.age_yr >= 30) & (pop_pred_data.age_yr < 50),\n",
    "           (pop_pred_data.age_yr >= 50) & (pop_pred_data.age_yr < 70),\n",
    "            (pop_pred_data.age_yr >= 70) & (pop_pred_data.age_yr < 80),\n",
    "           pop_pred_data.age_yr >= 80]\n",
    "age_cond_lbl = ['18-29', '30-49', '50-69', '70-79', '80+']"
   ]
  },
  {
   "cell_type": "code",
   "execution_count": 77,
   "metadata": {},
   "outputs": [],
   "source": [
    "age_cond = [pop_pred_data.age_yr < 40,\n",
    "           (pop_pred_data.age_yr >= 40) & (pop_pred_data.age_yr < 70),\n",
    "           pop_pred_data.age_yr >= 70]\n",
    "age_cond_lbl = ['18-39', '40-69','70+']"
   ]
  },
  {
   "cell_type": "code",
   "execution_count": 78,
   "metadata": {},
   "outputs": [],
   "source": [
    "pop_pred_data['age_category'] = np.select(age_cond, age_cond_lbl)"
   ]
  },
  {
   "cell_type": "code",
   "execution_count": 79,
   "metadata": {},
   "outputs": [],
   "source": [
    "metrics_cat_x_age = pd.concat([pop_pred_data.groupby(['age_category', 'race_eth']).apply(lambda x: metric_fp(x)),\n",
    "                          pop_pred_data.groupby(['age_category', 'race_eth']).apply(lambda x: metric_fn(x)),\n",
    "                          pop_pred_data.groupby(['age_category', 'race_eth']).apply(lambda x: metric_accuracy(x))], axis=1) \\\n",
    "    .reset_index(level=2, drop=True)\n",
    "metrics_cat_x_age['model'] = 'x_age'\n",
    "metrics_cat_x = pd.concat([pop_pred_data.groupby(['age_category', 'race_eth']).apply(lambda x: metric_fp(x, 'targ_x')),\n",
    "                          pop_pred_data.groupby(['age_category', 'race_eth']).apply(lambda x: metric_fn(x, 'targ_x')),\n",
    "                          pop_pred_data.groupby(['age_category', 'race_eth']).apply(lambda x: metric_accuracy(x, 'targ_x'))], axis=1) \\\n",
    "    .reset_index(level=2, drop=True)\n",
    "metrics_cat_x['model'] = 'x'"
   ]
  },
  {
   "cell_type": "code",
   "execution_count": 80,
   "metadata": {},
   "outputs": [
    {
     "data": {
      "text/html": [
       "<div>\n",
       "<style scoped>\n",
       "    .dataframe tbody tr th:only-of-type {\n",
       "        vertical-align: middle;\n",
       "    }\n",
       "\n",
       "    .dataframe tbody tr th {\n",
       "        vertical-align: top;\n",
       "    }\n",
       "\n",
       "    .dataframe thead th {\n",
       "        text-align: right;\n",
       "    }\n",
       "</style>\n",
       "<table border=\"1\" class=\"dataframe\">\n",
       "  <thead>\n",
       "    <tr style=\"text-align: right;\">\n",
       "      <th></th>\n",
       "      <th>age_category</th>\n",
       "      <th>race_eth</th>\n",
       "      <th>fp_rate</th>\n",
       "      <th>fn_rate</th>\n",
       "      <th>accuracy</th>\n",
       "      <th>model</th>\n",
       "    </tr>\n",
       "  </thead>\n",
       "  <tbody>\n",
       "    <tr>\n",
       "      <th>0</th>\n",
       "      <td>18-39</td>\n",
       "      <td>HISPANIC OR LATINO</td>\n",
       "      <td>0.002352</td>\n",
       "      <td>0.958333</td>\n",
       "      <td>0.937004</td>\n",
       "      <td>x_age</td>\n",
       "    </tr>\n",
       "    <tr>\n",
       "      <th>1</th>\n",
       "      <td>18-39</td>\n",
       "      <td>WHITE ALONE, NOT HISPANIC OR LATINO</td>\n",
       "      <td>0.002053</td>\n",
       "      <td>0.952381</td>\n",
       "      <td>0.934227</td>\n",
       "      <td>x_age</td>\n",
       "    </tr>\n",
       "    <tr>\n",
       "      <th>2</th>\n",
       "      <td>40-69</td>\n",
       "      <td>HISPANIC OR LATINO</td>\n",
       "      <td>0.128278</td>\n",
       "      <td>0.471186</td>\n",
       "      <td>0.739547</td>\n",
       "      <td>x_age</td>\n",
       "    </tr>\n",
       "    <tr>\n",
       "      <th>3</th>\n",
       "      <td>40-69</td>\n",
       "      <td>WHITE ALONE, NOT HISPANIC OR LATINO</td>\n",
       "      <td>0.202867</td>\n",
       "      <td>0.382716</td>\n",
       "      <td>0.723278</td>\n",
       "      <td>x_age</td>\n",
       "    </tr>\n",
       "    <tr>\n",
       "      <th>4</th>\n",
       "      <td>70+</td>\n",
       "      <td>HISPANIC OR LATINO</td>\n",
       "      <td>0.790123</td>\n",
       "      <td>0.022663</td>\n",
       "      <td>0.834101</td>\n",
       "      <td>x_age</td>\n",
       "    </tr>\n",
       "    <tr>\n",
       "      <th>5</th>\n",
       "      <td>70+</td>\n",
       "      <td>WHITE ALONE, NOT HISPANIC OR LATINO</td>\n",
       "      <td>0.818627</td>\n",
       "      <td>0.032445</td>\n",
       "      <td>0.817245</td>\n",
       "      <td>x_age</td>\n",
       "    </tr>\n",
       "    <tr>\n",
       "      <th>6</th>\n",
       "      <td>18-39</td>\n",
       "      <td>HISPANIC OR LATINO</td>\n",
       "      <td>0.089370</td>\n",
       "      <td>0.520833</td>\n",
       "      <td>0.883260</td>\n",
       "      <td>x</td>\n",
       "    </tr>\n",
       "    <tr>\n",
       "      <th>7</th>\n",
       "      <td>18-39</td>\n",
       "      <td>WHITE ALONE, NOT HISPANIC OR LATINO</td>\n",
       "      <td>0.102669</td>\n",
       "      <td>0.685714</td>\n",
       "      <td>0.858238</td>\n",
       "      <td>x</td>\n",
       "    </tr>\n",
       "    <tr>\n",
       "      <th>8</th>\n",
       "      <td>40-69</td>\n",
       "      <td>HISPANIC OR LATINO</td>\n",
       "      <td>0.058115</td>\n",
       "      <td>0.772881</td>\n",
       "      <td>0.666376</td>\n",
       "      <td>x</td>\n",
       "    </tr>\n",
       "    <tr>\n",
       "      <th>9</th>\n",
       "      <td>40-69</td>\n",
       "      <td>WHITE ALONE, NOT HISPANIC OR LATINO</td>\n",
       "      <td>0.055197</td>\n",
       "      <td>0.799383</td>\n",
       "      <td>0.639206</td>\n",
       "      <td>x</td>\n",
       "    </tr>\n",
       "    <tr>\n",
       "      <th>10</th>\n",
       "      <td>70+</td>\n",
       "      <td>HISPANIC OR LATINO</td>\n",
       "      <td>0.024691</td>\n",
       "      <td>0.886686</td>\n",
       "      <td>0.274194</td>\n",
       "      <td>x</td>\n",
       "    </tr>\n",
       "    <tr>\n",
       "      <th>11</th>\n",
       "      <td>70+</td>\n",
       "      <td>WHITE ALONE, NOT HISPANIC OR LATINO</td>\n",
       "      <td>0.024510</td>\n",
       "      <td>0.835458</td>\n",
       "      <td>0.319588</td>\n",
       "      <td>x</td>\n",
       "    </tr>\n",
       "  </tbody>\n",
       "</table>\n",
       "</div>"
      ],
      "text/plain": [
       "   age_category                             race_eth   fp_rate   fn_rate  \\\n",
       "0         18-39                   HISPANIC OR LATINO  0.002352  0.958333   \n",
       "1         18-39  WHITE ALONE, NOT HISPANIC OR LATINO  0.002053  0.952381   \n",
       "2         40-69                   HISPANIC OR LATINO  0.128278  0.471186   \n",
       "3         40-69  WHITE ALONE, NOT HISPANIC OR LATINO  0.202867  0.382716   \n",
       "4           70+                   HISPANIC OR LATINO  0.790123  0.022663   \n",
       "5           70+  WHITE ALONE, NOT HISPANIC OR LATINO  0.818627  0.032445   \n",
       "6         18-39                   HISPANIC OR LATINO  0.089370  0.520833   \n",
       "7         18-39  WHITE ALONE, NOT HISPANIC OR LATINO  0.102669  0.685714   \n",
       "8         40-69                   HISPANIC OR LATINO  0.058115  0.772881   \n",
       "9         40-69  WHITE ALONE, NOT HISPANIC OR LATINO  0.055197  0.799383   \n",
       "10          70+                   HISPANIC OR LATINO  0.024691  0.886686   \n",
       "11          70+  WHITE ALONE, NOT HISPANIC OR LATINO  0.024510  0.835458   \n",
       "\n",
       "    accuracy  model  \n",
       "0   0.937004  x_age  \n",
       "1   0.934227  x_age  \n",
       "2   0.739547  x_age  \n",
       "3   0.723278  x_age  \n",
       "4   0.834101  x_age  \n",
       "5   0.817245  x_age  \n",
       "6   0.883260      x  \n",
       "7   0.858238      x  \n",
       "8   0.666376      x  \n",
       "9   0.639206      x  \n",
       "10  0.274194      x  \n",
       "11  0.319588      x  "
      ]
     },
     "execution_count": 80,
     "metadata": {},
     "output_type": "execute_result"
    }
   ],
   "source": [
    "metrics_race_eth_cat = pd.concat([metrics_cat_x_age, metrics_cat_x]).reset_index()\n",
    "metrics_race_eth_cat"
   ]
  },
  {
   "cell_type": "code",
   "execution_count": 81,
   "metadata": {},
   "outputs": [],
   "source": [
    "metrics_race_eth_cat.to_csv(os.path.join(local_save_path, 'DATA_metrics_by_race_eth_age_category.csv'))"
   ]
  },
  {
   "cell_type": "markdown",
   "metadata": {},
   "source": [
    "### Metrics by finer-grained age/race/ethnicity\n",
    "Get within-5-year buckets, atarting at 18.  Set group to midpoint of bucket."
   ]
  },
  {
   "cell_type": "code",
   "execution_count": 82,
   "metadata": {},
   "outputs": [
    {
     "data": {
      "text/html": [
       "<div>\n",
       "<style scoped>\n",
       "    .dataframe tbody tr th:only-of-type {\n",
       "        vertical-align: middle;\n",
       "    }\n",
       "\n",
       "    .dataframe tbody tr th {\n",
       "        vertical-align: top;\n",
       "    }\n",
       "\n",
       "    .dataframe thead th {\n",
       "        text-align: right;\n",
       "    }\n",
       "</style>\n",
       "<table border=\"1\" class=\"dataframe\">\n",
       "  <thead>\n",
       "    <tr style=\"text-align: right;\">\n",
       "      <th></th>\n",
       "      <th>race_eth</th>\n",
       "      <th>age_yr</th>\n",
       "      <th>x</th>\n",
       "      <th>eta</th>\n",
       "      <th>sim_lin</th>\n",
       "      <th>sim_prob</th>\n",
       "      <th>targ_status</th>\n",
       "      <th>prob_x_age</th>\n",
       "      <th>prob_x</th>\n",
       "      <th>targ_x_age</th>\n",
       "      <th>targ_x</th>\n",
       "      <th>age_category</th>\n",
       "      <th>age_grp_5</th>\n",
       "    </tr>\n",
       "  </thead>\n",
       "  <tbody>\n",
       "    <tr>\n",
       "      <th>9995</th>\n",
       "      <td>HISPANIC OR LATINO</td>\n",
       "      <td>30.0</td>\n",
       "      <td>0.072959</td>\n",
       "      <td>-0.943208</td>\n",
       "      <td>-3.021362</td>\n",
       "      <td>0.046470</td>\n",
       "      <td>0</td>\n",
       "      <td>0.050952</td>\n",
       "      <td>0.326900</td>\n",
       "      <td>0</td>\n",
       "      <td>0</td>\n",
       "      <td>18-39</td>\n",
       "      <td>30.5</td>\n",
       "    </tr>\n",
       "    <tr>\n",
       "      <th>9996</th>\n",
       "      <td>HISPANIC OR LATINO</td>\n",
       "      <td>50.0</td>\n",
       "      <td>0.489102</td>\n",
       "      <td>0.782216</td>\n",
       "      <td>-0.432676</td>\n",
       "      <td>0.393487</td>\n",
       "      <td>1</td>\n",
       "      <td>0.384404</td>\n",
       "      <td>0.389053</td>\n",
       "      <td>0</td>\n",
       "      <td>0</td>\n",
       "      <td>40-69</td>\n",
       "      <td>50.5</td>\n",
       "    </tr>\n",
       "    <tr>\n",
       "      <th>9997</th>\n",
       "      <td>HISPANIC OR LATINO</td>\n",
       "      <td>61.0</td>\n",
       "      <td>-1.014144</td>\n",
       "      <td>2.408434</td>\n",
       "      <td>-0.673300</td>\n",
       "      <td>0.337758</td>\n",
       "      <td>1</td>\n",
       "      <td>0.275669</td>\n",
       "      <td>0.193093</td>\n",
       "      <td>0</td>\n",
       "      <td>0</td>\n",
       "      <td>40-69</td>\n",
       "      <td>60.5</td>\n",
       "    </tr>\n",
       "    <tr>\n",
       "      <th>9998</th>\n",
       "      <td>HISPANIC OR LATINO</td>\n",
       "      <td>47.0</td>\n",
       "      <td>-0.062696</td>\n",
       "      <td>0.882786</td>\n",
       "      <td>-1.274418</td>\n",
       "      <td>0.218502</td>\n",
       "      <td>1</td>\n",
       "      <td>0.204220</td>\n",
       "      <td>0.307770</td>\n",
       "      <td>0</td>\n",
       "      <td>0</td>\n",
       "      <td>40-69</td>\n",
       "      <td>45.5</td>\n",
       "    </tr>\n",
       "    <tr>\n",
       "      <th>9999</th>\n",
       "      <td>HISPANIC OR LATINO</td>\n",
       "      <td>60.0</td>\n",
       "      <td>-1.437870</td>\n",
       "      <td>-0.099596</td>\n",
       "      <td>-1.447830</td>\n",
       "      <td>0.190336</td>\n",
       "      <td>0</td>\n",
       "      <td>0.179781</td>\n",
       "      <td>0.153694</td>\n",
       "      <td>0</td>\n",
       "      <td>0</td>\n",
       "      <td>40-69</td>\n",
       "      <td>60.5</td>\n",
       "    </tr>\n",
       "  </tbody>\n",
       "</table>\n",
       "</div>"
      ],
      "text/plain": [
       "                race_eth  age_yr         x       eta   sim_lin  sim_prob  \\\n",
       "9995  HISPANIC OR LATINO    30.0  0.072959 -0.943208 -3.021362  0.046470   \n",
       "9996  HISPANIC OR LATINO    50.0  0.489102  0.782216 -0.432676  0.393487   \n",
       "9997  HISPANIC OR LATINO    61.0 -1.014144  2.408434 -0.673300  0.337758   \n",
       "9998  HISPANIC OR LATINO    47.0 -0.062696  0.882786 -1.274418  0.218502   \n",
       "9999  HISPANIC OR LATINO    60.0 -1.437870 -0.099596 -1.447830  0.190336   \n",
       "\n",
       "      targ_status  prob_x_age    prob_x  targ_x_age  targ_x age_category  \\\n",
       "9995            0    0.050952  0.326900           0       0        18-39   \n",
       "9996            1    0.384404  0.389053           0       0        40-69   \n",
       "9997            1    0.275669  0.193093           0       0        40-69   \n",
       "9998            1    0.204220  0.307770           0       0        40-69   \n",
       "9999            0    0.179781  0.153694           0       0        40-69   \n",
       "\n",
       "      age_grp_5  \n",
       "9995       30.5  \n",
       "9996       50.5  \n",
       "9997       60.5  \n",
       "9998       45.5  \n",
       "9999       60.5  "
      ]
     },
     "execution_count": 82,
     "metadata": {},
     "output_type": "execute_result"
    }
   ],
   "source": [
    "pop_pred_data['age_grp_5'] = 18 + 5 * np.floor((pop_pred_data['age_yr'] - 18)/5) + 2.5\n",
    "pop_pred_data.tail()"
   ]
  },
  {
   "cell_type": "code",
   "execution_count": 83,
   "metadata": {},
   "outputs": [
    {
     "name": "stderr",
     "output_type": "stream",
     "text": [
      "/anaconda/envs/azureml_py36/lib/python3.6/site-packages/numpy/core/fromnumeric.py:3335: RuntimeWarning: Mean of empty slice.\n",
      "  out=out, **kwargs)\n",
      "/anaconda/envs/azureml_py36/lib/python3.6/site-packages/numpy/core/_methods.py:161: RuntimeWarning: invalid value encountered in double_scalars\n",
      "  ret = ret.dtype.type(ret / rcount)\n"
     ]
    }
   ],
   "source": [
    "metrics_grp5_x_age = pd.concat([pop_pred_data.groupby(['age_grp_5', 'race_eth']).apply(lambda x: metric_fp(x)),\n",
    "                          pop_pred_data.groupby(['age_grp_5', 'race_eth']).apply(lambda x: metric_fn(x)),\n",
    "                          pop_pred_data.groupby(['age_grp_5', 'race_eth']).apply(lambda x: metric_accuracy(x))], axis=1) \\\n",
    "    .reset_index(level=2, drop=True)\n",
    "metrics_grp5_x_age['model'] = 'x_age'\n",
    "metrics_grp5_x = pd.concat([pop_pred_data.groupby(['age_grp_5', 'race_eth']).apply(lambda x: metric_fp(x, 'targ_x')),\n",
    "                          pop_pred_data.groupby(['age_grp_5', 'race_eth']).apply(lambda x: metric_fn(x, 'targ_x')),\n",
    "                          pop_pred_data.groupby(['age_grp_5', 'race_eth']).apply(lambda x: metric_accuracy(x, 'targ_x'))], axis=1) \\\n",
    "    .reset_index(level=2, drop=True)\n",
    "metrics_grp5_x['model'] = 'x'"
   ]
  },
  {
   "cell_type": "code",
   "execution_count": 84,
   "metadata": {},
   "outputs": [
    {
     "data": {
      "text/html": [
       "<div>\n",
       "<style scoped>\n",
       "    .dataframe tbody tr th:only-of-type {\n",
       "        vertical-align: middle;\n",
       "    }\n",
       "\n",
       "    .dataframe tbody tr th {\n",
       "        vertical-align: top;\n",
       "    }\n",
       "\n",
       "    .dataframe thead th {\n",
       "        text-align: right;\n",
       "    }\n",
       "</style>\n",
       "<table border=\"1\" class=\"dataframe\">\n",
       "  <thead>\n",
       "    <tr style=\"text-align: right;\">\n",
       "      <th></th>\n",
       "      <th>age_grp_5</th>\n",
       "      <th>race_eth</th>\n",
       "      <th>fp_rate</th>\n",
       "      <th>fn_rate</th>\n",
       "      <th>accuracy</th>\n",
       "      <th>model</th>\n",
       "    </tr>\n",
       "  </thead>\n",
       "  <tbody>\n",
       "    <tr>\n",
       "      <th>0</th>\n",
       "      <td>20.5</td>\n",
       "      <td>HISPANIC OR LATINO</td>\n",
       "      <td>0.000000</td>\n",
       "      <td>1.000000</td>\n",
       "      <td>0.961749</td>\n",
       "      <td>x_age</td>\n",
       "    </tr>\n",
       "    <tr>\n",
       "      <th>1</th>\n",
       "      <td>20.5</td>\n",
       "      <td>WHITE ALONE, NOT HISPANIC OR LATINO</td>\n",
       "      <td>0.000000</td>\n",
       "      <td>1.000000</td>\n",
       "      <td>0.975000</td>\n",
       "      <td>x_age</td>\n",
       "    </tr>\n",
       "    <tr>\n",
       "      <th>2</th>\n",
       "      <td>25.5</td>\n",
       "      <td>HISPANIC OR LATINO</td>\n",
       "      <td>0.003817</td>\n",
       "      <td>1.000000</td>\n",
       "      <td>0.957798</td>\n",
       "      <td>x_age</td>\n",
       "    </tr>\n",
       "    <tr>\n",
       "      <th>3</th>\n",
       "      <td>25.5</td>\n",
       "      <td>WHITE ALONE, NOT HISPANIC OR LATINO</td>\n",
       "      <td>0.000000</td>\n",
       "      <td>1.000000</td>\n",
       "      <td>0.947802</td>\n",
       "      <td>x_age</td>\n",
       "    </tr>\n",
       "    <tr>\n",
       "      <th>4</th>\n",
       "      <td>30.5</td>\n",
       "      <td>HISPANIC OR LATINO</td>\n",
       "      <td>0.001992</td>\n",
       "      <td>0.931034</td>\n",
       "      <td>0.947269</td>\n",
       "      <td>x_age</td>\n",
       "    </tr>\n",
       "  </tbody>\n",
       "</table>\n",
       "</div>"
      ],
      "text/plain": [
       "   age_grp_5                             race_eth   fp_rate   fn_rate  \\\n",
       "0       20.5                   HISPANIC OR LATINO  0.000000  1.000000   \n",
       "1       20.5  WHITE ALONE, NOT HISPANIC OR LATINO  0.000000  1.000000   \n",
       "2       25.5                   HISPANIC OR LATINO  0.003817  1.000000   \n",
       "3       25.5  WHITE ALONE, NOT HISPANIC OR LATINO  0.000000  1.000000   \n",
       "4       30.5                   HISPANIC OR LATINO  0.001992  0.931034   \n",
       "\n",
       "   accuracy  model  \n",
       "0  0.961749  x_age  \n",
       "1  0.975000  x_age  \n",
       "2  0.957798  x_age  \n",
       "3  0.947802  x_age  \n",
       "4  0.947269  x_age  "
      ]
     },
     "execution_count": 84,
     "metadata": {},
     "output_type": "execute_result"
    }
   ],
   "source": [
    "metrics_race_eth_grp5 = pd.concat([metrics_grp5_x_age, metrics_grp5_x]).reset_index()\n",
    "metrics_race_eth_grp5.head()"
   ]
  },
  {
   "cell_type": "markdown",
   "metadata": {},
   "source": [
    "#### Plot metrics for the fine-grained age groups"
   ]
  },
  {
   "cell_type": "code",
   "execution_count": 85,
   "metadata": {},
   "outputs": [],
   "source": [
    "# Function to plot and save \n",
    "def metric_plot_save(data, model_sel = 'x_age',\n",
    "                     index_col = 'age_grp_5',\n",
    "                     value_col = 'accuracy',\n",
    "                     metric_name = None,\n",
    "                     plt_title = 'Model y = x + age',\n",
    "                     out_fn = None):\n",
    "    \"\"\" Plots the metric vs. age group midpoint for one model \"\"\"\n",
    "    \n",
    "    mdl_data = data[data['model'] == model_sel]\n",
    "    maxv = np.max(mdl_data[value_col]) * 1.05\n",
    "    minv = np.min(mdl_data[value_col]) * 0.9\n",
    "    pivot_data = mdl_data.pivot(index=index_col, columns='race_eth', values=value_col)\n",
    "    labels = [ '\\n'.join(wrap(l, 20)) for l in pivot_data.columns]\n",
    "    \n",
    "    # Use metric name for title if unknown\n",
    "    if (metric_name is not None):\n",
    "        plt_suptitle = metric_name + ' vs. age group'\n",
    "    else:\n",
    "        plt_suptitle = value_col.capitalize() + ' vs. age group'\n",
    "    \n",
    "    plt.figure()\n",
    "    pivot_data.plot()\n",
    "    plt.gca().set_ylim(minv, maxv)\n",
    "    plt.legend(title=None, framealpha=1, labels=labels)\n",
    "    plt.xlabel('age group midpoint')\n",
    "    #plt.tick_params(axis='y', which='both', left=False, labelleft=False)\n",
    "    plt.gca().yaxis.set_major_formatter(matplotlib.ticker.PercentFormatter(1))\n",
    "    plt.ylabel(value_col)\n",
    "    plt.suptitle(plt_suptitle)\n",
    "    plt.title(plt_title)\n",
    "    if (out_fn is not None):\n",
    "        plt.savefig(out_fn, bbox_inches='tight')\n",
    "    plt.show()"
   ]
  },
  {
   "cell_type": "code",
   "execution_count": 86,
   "metadata": {},
   "outputs": [
    {
     "data": {
      "text/plain": [
       "<Figure size 432x288 with 0 Axes>"
      ]
     },
     "metadata": {},
     "output_type": "display_data"
    },
    {
     "data": {
      "image/png": "[encoded data removed]",
      "text/plain": [
       "<Figure size 432x288 with 1 Axes>"
      ]
     },
     "metadata": {
      "needs_background": "light"
     },
     "output_type": "display_data"
    },
    {
     "data": {
      "text/plain": [
       "<Figure size 432x288 with 0 Axes>"
      ]
     },
     "metadata": {},
     "output_type": "display_data"
    },
    {
     "data": {
      "image/png": "[encoded data removed]",
      "text/plain": [
       "<Figure size 432x288 with 1 Axes>"
      ]
     },
     "metadata": {
      "needs_background": "light"
     },
     "output_type": "display_data"
    },
    {
     "data": {
      "text/plain": [
       "<Figure size 432x288 with 0 Axes>"
      ]
     },
     "metadata": {},
     "output_type": "display_data"
    },
    {
     "data": {
      "image/png": "[encoded data removed]",
      "text/plain": [
       "<Figure size 432x288 with 1 Axes>"
      ]
     },
     "metadata": {
      "needs_background": "light"
     },
     "output_type": "display_data"
    }
   ],
   "source": [
    "# Model y=x+age\n",
    "metric_plot_save(metrics_race_eth_grp5, out_fn=os.path.join(local_save_path, 'PLOT_metric_age_grp_x_age_accuracy.png'))\n",
    "metric_plot_save(metrics_race_eth_grp5, value_col='fp_rate', metric_name = 'False positive rate',\n",
    "                 out_fn=os.path.join(local_save_path, 'PLOT_metric_age_grp_x_age_fp_rate.png'))\n",
    "metric_plot_save(metrics_race_eth_grp5, value_col='fn_rate', metric_name = 'False negative rate',\n",
    "                 out_fn=os.path.join(local_save_path, 'PLOT_metric_age_grp_x_age_fn_rate.png'))"
   ]
  },
  {
   "cell_type": "code",
   "execution_count": 87,
   "metadata": {},
   "outputs": [
    {
     "data": {
      "text/plain": [
       "<Figure size 432x288 with 0 Axes>"
      ]
     },
     "metadata": {},
     "output_type": "display_data"
    },
    {
     "data": {
      "image/png": "[encoded data removed]",
      "text/plain": [
       "<Figure size 432x288 with 1 Axes>"
      ]
     },
     "metadata": {
      "needs_background": "light"
     },
     "output_type": "display_data"
    },
    {
     "data": {
      "text/plain": [
       "<Figure size 432x288 with 0 Axes>"
      ]
     },
     "metadata": {},
     "output_type": "display_data"
    },
    {
     "data": {
      "image/png": "[encoded data removed]",
      "text/plain": [
       "<Figure size 432x288 with 1 Axes>"
      ]
     },
     "metadata": {
      "needs_background": "light"
     },
     "output_type": "display_data"
    },
    {
     "data": {
      "text/plain": [
       "<Figure size 432x288 with 0 Axes>"
      ]
     },
     "metadata": {},
     "output_type": "display_data"
    },
    {
     "data": {
      "image/png": "[encoded data removed]",
      "text/plain": [
       "<Figure size 432x288 with 1 Axes>"
      ]
     },
     "metadata": {
      "needs_background": "light"
     },
     "output_type": "display_data"
    }
   ],
   "source": [
    "# Model y=x\n",
    "metric_plot_save(metrics_race_eth_grp5, model_sel = 'x', plt_title='Model y = x',\n",
    "                 out_fn=os.path.join(local_save_path, 'PLOT_metric_age_grp_x_accuracy.png'))\n",
    "metric_plot_save(metrics_race_eth_grp5, model_sel = 'x', plt_title='Model y = x',\n",
    "                 value_col='fp_rate', metric_name = 'False positive rate',\n",
    "                 out_fn=os.path.join(local_save_path, 'PLOT_metric_age_grp_x_fp_rate.png'))\n",
    "metric_plot_save(metrics_race_eth_grp5, model_sel = 'x', plt_title='Model y = x',\n",
    "                 value_col='fn_rate', metric_name = 'False negative rate',\n",
    "                 out_fn=os.path.join(local_save_path, 'PLOT_metric_age_grp_x_fn_rate.png'))"
   ]
  },
  {
   "cell_type": "markdown",
   "metadata": {},
   "source": [
    "## Calibration\n",
    "Show calibration curve across groups"
   ]
  },
  {
   "cell_type": "code",
   "execution_count": 88,
   "metadata": {},
   "outputs": [
    {
     "data": {
      "text/html": [
       "<div>\n",
       "<style scoped>\n",
       "    .dataframe tbody tr th:only-of-type {\n",
       "        vertical-align: middle;\n",
       "    }\n",
       "\n",
       "    .dataframe tbody tr th {\n",
       "        vertical-align: top;\n",
       "    }\n",
       "\n",
       "    .dataframe thead th {\n",
       "        text-align: right;\n",
       "    }\n",
       "</style>\n",
       "<table border=\"1\" class=\"dataframe\">\n",
       "  <thead>\n",
       "    <tr style=\"text-align: right;\">\n",
       "      <th></th>\n",
       "      <th>race_eth</th>\n",
       "      <th>age_yr</th>\n",
       "      <th>x</th>\n",
       "      <th>eta</th>\n",
       "      <th>sim_lin</th>\n",
       "      <th>sim_prob</th>\n",
       "      <th>targ_status</th>\n",
       "      <th>prob_x_age</th>\n",
       "      <th>prob_x</th>\n",
       "      <th>targ_x_age</th>\n",
       "      <th>targ_x</th>\n",
       "      <th>age_category</th>\n",
       "      <th>age_grp_5</th>\n",
       "    </tr>\n",
       "  </thead>\n",
       "  <tbody>\n",
       "    <tr>\n",
       "      <th>0</th>\n",
       "      <td>WHITE ALONE, NOT HISPANIC OR LATINO</td>\n",
       "      <td>55.0</td>\n",
       "      <td>1.624345</td>\n",
       "      <td>-0.122474</td>\n",
       "      <td>1.112098</td>\n",
       "      <td>0.752520</td>\n",
       "      <td>1</td>\n",
       "      <td>0.775692</td>\n",
       "      <td>0.571468</td>\n",
       "      <td>1</td>\n",
       "      <td>1</td>\n",
       "      <td>40-69</td>\n",
       "      <td>55.5</td>\n",
       "    </tr>\n",
       "    <tr>\n",
       "      <th>1</th>\n",
       "      <td>WHITE ALONE, NOT HISPANIC OR LATINO</td>\n",
       "      <td>55.0</td>\n",
       "      <td>-0.611756</td>\n",
       "      <td>0.228170</td>\n",
       "      <td>-1.088939</td>\n",
       "      <td>0.251818</td>\n",
       "      <td>0</td>\n",
       "      <td>0.242198</td>\n",
       "      <td>0.237208</td>\n",
       "      <td>0</td>\n",
       "      <td>0</td>\n",
       "      <td>40-69</td>\n",
       "      <td>55.5</td>\n",
       "    </tr>\n",
       "    <tr>\n",
       "      <th>2</th>\n",
       "      <td>WHITE ALONE, NOT HISPANIC OR LATINO</td>\n",
       "      <td>52.0</td>\n",
       "      <td>-0.528172</td>\n",
       "      <td>-0.352305</td>\n",
       "      <td>-1.363402</td>\n",
       "      <td>0.203688</td>\n",
       "      <td>0</td>\n",
       "      <td>0.205344</td>\n",
       "      <td>0.247195</td>\n",
       "      <td>0</td>\n",
       "      <td>0</td>\n",
       "      <td>40-69</td>\n",
       "      <td>50.5</td>\n",
       "    </tr>\n",
       "    <tr>\n",
       "      <th>3</th>\n",
       "      <td>WHITE ALONE, NOT HISPANIC OR LATINO</td>\n",
       "      <td>20.0</td>\n",
       "      <td>-1.072969</td>\n",
       "      <td>-0.830553</td>\n",
       "      <td>-5.156024</td>\n",
       "      <td>0.005732</td>\n",
       "      <td>0</td>\n",
       "      <td>0.005765</td>\n",
       "      <td>0.187196</td>\n",
       "      <td>0</td>\n",
       "      <td>0</td>\n",
       "      <td>18-39</td>\n",
       "      <td>20.5</td>\n",
       "    </tr>\n",
       "    <tr>\n",
       "      <th>4</th>\n",
       "      <td>WHITE ALONE, NOT HISPANIC OR LATINO</td>\n",
       "      <td>69.0</td>\n",
       "      <td>0.865408</td>\n",
       "      <td>-0.261090</td>\n",
       "      <td>1.739299</td>\n",
       "      <td>0.850598</td>\n",
       "      <td>1</td>\n",
       "      <td>0.862929</td>\n",
       "      <td>0.448610</td>\n",
       "      <td>1</td>\n",
       "      <td>0</td>\n",
       "      <td>40-69</td>\n",
       "      <td>70.5</td>\n",
       "    </tr>\n",
       "  </tbody>\n",
       "</table>\n",
       "</div>"
      ],
      "text/plain": [
       "                              race_eth  age_yr         x       eta   sim_lin  \\\n",
       "0  WHITE ALONE, NOT HISPANIC OR LATINO    55.0  1.624345 -0.122474  1.112098   \n",
       "1  WHITE ALONE, NOT HISPANIC OR LATINO    55.0 -0.611756  0.228170 -1.088939   \n",
       "2  WHITE ALONE, NOT HISPANIC OR LATINO    52.0 -0.528172 -0.352305 -1.363402   \n",
       "3  WHITE ALONE, NOT HISPANIC OR LATINO    20.0 -1.072969 -0.830553 -5.156024   \n",
       "4  WHITE ALONE, NOT HISPANIC OR LATINO    69.0  0.865408 -0.261090  1.739299   \n",
       "\n",
       "   sim_prob  targ_status  prob_x_age    prob_x  targ_x_age  targ_x  \\\n",
       "0  0.752520            1    0.775692  0.571468           1       1   \n",
       "1  0.251818            0    0.242198  0.237208           0       0   \n",
       "2  0.203688            0    0.205344  0.247195           0       0   \n",
       "3  0.005732            0    0.005765  0.187196           0       0   \n",
       "4  0.850598            1    0.862929  0.448610           1       0   \n",
       "\n",
       "  age_category  age_grp_5  \n",
       "0        40-69       55.5  \n",
       "1        40-69       55.5  \n",
       "2        40-69       50.5  \n",
       "3        18-39       20.5  \n",
       "4        40-69       70.5  "
      ]
     },
     "execution_count": 88,
     "metadata": {},
     "output_type": "execute_result"
    }
   ],
   "source": [
    "pop_pred_data.head()"
   ]
  },
  {
   "cell_type": "code",
   "execution_count": 89,
   "metadata": {},
   "outputs": [],
   "source": [
    "# Function to create 2 calibration plots\n",
    "def calibration_decile_plot(data, \n",
    "                              model_prob = 'prob_x_age',\n",
    "                              plt_title = 'Model y = x + age',\n",
    "                              out_fn = None):\n",
    "    \"\"\" Calibration by race/ethnicity \"\"\"\n",
    "    \n",
    "    data['model_decile'] = pd.qcut(data[model_prob], q=10, labels=[str(x) for x in range(0,10)])\n",
    "    data_agg = data.groupby(['model_decile', 'race_eth']).agg(model_prob = (model_prob, 'mean'),\n",
    "                                                                actual_prob = ('targ_status', 'mean')) \\\n",
    "        .reset_index() \n",
    "    data_agg_pivot = data_agg.pivot(index='model_decile', columns='race_eth', values=['model_prob']) \\\n",
    "        .droplevel(axis=1, level=0)\n",
    "    labels = [ '\\n'.join(wrap(l, 20)) for l in data_agg_pivot.columns]\n",
    "    plt.figure()\n",
    "    data_agg_pivot.plot(style=['-','--'])\n",
    "    plt.legend(title=None, framealpha=1, labels=labels)\n",
    "    plt.xlabel('Model probability decile')\n",
    "    plt.gca().yaxis.set_major_formatter(matplotlib.ticker.PercentFormatter(1))\n",
    "    plt.ylabel('Actual rate')\n",
    "    plt.title(plt_title)\n",
    "    if (out_fn is not None):\n",
    "        plt.savefig(out_fn, bbox_inches='tight')\n",
    "    plt.show()"
   ]
  },
  {
   "cell_type": "code",
   "execution_count": 90,
   "metadata": {},
   "outputs": [
    {
     "data": {
      "text/plain": [
       "<Figure size 432x288 with 0 Axes>"
      ]
     },
     "metadata": {},
     "output_type": "display_data"
    },
    {
     "data": {
      "image/png": "[encoded data removed]",
      "text/plain": [
       "<Figure size 432x288 with 1 Axes>"
      ]
     },
     "metadata": {
      "needs_background": "light"
     },
     "output_type": "display_data"
    }
   ],
   "source": [
    "calibration_decile_plot(pop_pred_data, out_fn = os.path.join(local_save_path, 'PLOT_calibration_deciles_age_x.png'))"
   ]
  },
  {
   "cell_type": "code",
   "execution_count": 91,
   "metadata": {},
   "outputs": [
    {
     "data": {
      "text/plain": [
       "<Figure size 432x288 with 0 Axes>"
      ]
     },
     "metadata": {},
     "output_type": "display_data"
    },
    {
     "data": {
      "image/png": "[encoded data removed]",
      "text/plain": [
       "<Figure size 432x288 with 1 Axes>"
      ]
     },
     "metadata": {
      "needs_background": "light"
     },
     "output_type": "display_data"
    }
   ],
   "source": [
    "calibration_decile_plot(pop_pred_data, 'prob_x',\n",
    "                         'Model y = x', out_fn = os.path.join(local_save_path, 'PLOT_calibration_deciles_x.png'))"
   ]
  },
  {
   "cell_type": "markdown",
   "metadata": {},
   "source": [
    "#### Model probability vs. Actual probability (overall)"
   ]
  },
  {
   "cell_type": "code",
   "execution_count": 92,
   "metadata": {},
   "outputs": [],
   "source": [
    "def calibration_prob_align_plot(data, \n",
    "                              model_prob = 'prob_x_age',\n",
    "                              plt_title = 'Model y = x + age',\n",
    "                              out_fn = None):\n",
    "    \"\"\" Model probability vs. actual probability by race/ethnicity.  Uses\n",
    "    deciles to calculate model probabilities\"\"\"\n",
    "    \n",
    "    data['model_grp_decile'] = data.groupby('race_eth')[model_prob].transform(lambda x: pd.qcut(x, q=10, labels=[str(x) for x in range(0,10)]))\n",
    "\n",
    "    data_agg = data.groupby(['model_grp_decile', 'race_eth']).agg(model_prob = (model_prob, 'mean'),\n",
    "                                                                actual_prob = ('targ_status', 'mean')) \\\n",
    "        .reset_index() \n",
    "    labels = [ '\\n'.join(wrap(l, 20)) for l in data_agg['race_eth'].unique()]\n",
    "    \n",
    "    plt.figure()\n",
    "    fig, ax = plt.subplots()\n",
    "    data_agg.groupby('race_eth').plot(x='model_prob', y='actual_prob', ax=ax)\n",
    "    plt.legend(title=None, framealpha=1, labels=labels)\n",
    "    plt.xlabel('Model probability')\n",
    "    plt.gca().yaxis.set_major_formatter(matplotlib.ticker.PercentFormatter(1))\n",
    "    plt.gca().xaxis.set_major_formatter(matplotlib.ticker.PercentFormatter(1))\n",
    "    plt.ylabel('Actual rate')\n",
    "    plt.title(plt_title)\n",
    "    if (out_fn is not None):\n",
    "        plt.savefig(out_fn, bbox_inches='tight')\n",
    "    plt.show()"
   ]
  },
  {
   "cell_type": "code",
   "execution_count": 93,
   "metadata": {},
   "outputs": [
    {
     "data": {
      "text/plain": [
       "<Figure size 432x288 with 0 Axes>"
      ]
     },
     "metadata": {},
     "output_type": "display_data"
    },
    {
     "data": {
      "image/png": "[encoded data removed]",
      "text/plain": [
       "<Figure size 432x288 with 1 Axes>"
      ]
     },
     "metadata": {
      "needs_background": "light"
     },
     "output_type": "display_data"
    }
   ],
   "source": [
    "calibration_prob_align_plot(pop_pred_data, out_fn = os.path.join(local_save_path, 'PLOT_calibration_probs_age_x.png'))"
   ]
  },
  {
   "cell_type": "code",
   "execution_count": 94,
   "metadata": {},
   "outputs": [
    {
     "data": {
      "text/plain": [
       "<Figure size 432x288 with 0 Axes>"
      ]
     },
     "metadata": {},
     "output_type": "display_data"
    },
    {
     "data": {
      "image/png": "[encoded data removed]",
      "text/plain": [
       "<Figure size 432x288 with 1 Axes>"
      ]
     },
     "metadata": {
      "needs_background": "light"
     },
     "output_type": "display_data"
    }
   ],
   "source": [
    "calibration_prob_align_plot(pop_pred_data, 'prob_x',\n",
    "                            'Model y = x', out_fn= os.path.join(local_save_path, 'PLOT_calibration_probs_x.png'))"
   ]
  },
  {
   "cell_type": "markdown",
   "metadata": {},
   "source": [
    "## Conclusions\n",
    "- For processes that depend on age but not race/ethnicity, fairness metrics differ across racial/ethnic groups if age distributions vary.\n",
    "- Differences disappear when we examine fine-grained age categories.\n",
    "- Larger age buckets (10+ years) reduce but do not eliminate differences "
   ]
  }
 ],
 "metadata": {
  "kernelspec": {
   "display_name": "Python 3.6 - AzureML",
   "language": "python",
   "name": "python3-azureml"
  },
  "language_info": {
   "codemirror_mode": {
    "name": "ipython",
    "version": 3
   },
   "file_extension": ".py",
   "mimetype": "text/x-python",
   "name": "python",
   "nbconvert_exporter": "python",
   "pygments_lexer": "ipython3",
   "version": "3.6.9"
  }
 },
 "nbformat": 4,
 "nbformat_minor": 4
}
